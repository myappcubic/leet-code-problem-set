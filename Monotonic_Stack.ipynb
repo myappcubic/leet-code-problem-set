{
  "nbformat": 4,
  "nbformat_minor": 0,
  "metadata": {
    "colab": {
      "provenance": [],
      "authorship_tag": "ABX9TyP3dJBeM26x8T86h0Vj3qUa",
      "include_colab_link": true
    },
    "kernelspec": {
      "name": "python3",
      "display_name": "Python 3"
    },
    "language_info": {
      "name": "python"
    }
  },
  "cells": [
    {
      "cell_type": "markdown",
      "metadata": {
        "id": "view-in-github",
        "colab_type": "text"
      },
      "source": [
        "<a href=\"https://colab.research.google.com/github/myappcubic/leet-code-problem-set/blob/main/Monotonic_Stack.ipynb\" target=\"_parent\"><img src=\"https://colab.research.google.com/assets/colab-badge.svg\" alt=\"Open In Colab\"/></a>"
      ]
    },
    {
      "cell_type": "markdown",
      "source": [
        "# Monotonic stack problem\n",
        "\n",
        "> To *understand* what kinds of problems a monotonic stack is suitable for solving, it is first necessary to know **the function of a monotonic stack**\n",
        "\n",
        "Monotonic stacks are divided into `monotonically increasing stacks and monotonically decreasing stacks`. By using a monotonic stack, we can access the next element that is **larger** (or **smaller**) than the ***current*** one.\n",
        "\n",
        "That is to say, in a queue or array, when we need to solve a problem by comparing the *size relationship between **successive** elements*, we usually use a monotonic stack.\n",
        "\n",
        "**IN HUMAN LANGUAGE:**\n",
        "- **monotonically increasing stacks**:\n",
        "- **monotonically decreasing stacks**:\n"
      ],
      "metadata": {
        "id": "lBIE7h1ovvUL"
      }
    },
    {
      "cell_type": "markdown",
      "source": [
        "## More Info\n",
        "\n",
        "`Mnemonic:`\n",
        "\n",
        "To find '**the next larger element than the current one**', use a *monotonically* **increasing** stack. To find '**the next smaller element than the current one**', use a *monotonically* **decreasing** stack.\n",
        "\n",
        "When searching from the '*left side*', look at the top element of the stack at the time of '*insertion into the stack*'. When searching from the '*right side*', look at the element that is about to be inserted at the time of '*popping from the stack*'\n",
        "\n",
        "\n",
        "Increase!\n",
        "```\n",
        "def IncreasingStack(nums):\n",
        "  stack = []\n",
        "  for num in nums:\n",
        "    while stack and num >= stack[-1]:\n",
        "      stack.pop()\n",
        "    stack.append(num)\n",
        "```"
      ],
      "metadata": {
        "id": "YNERAE82yWbv"
      }
    },
    {
      "cell_type": "markdown",
      "source": [
        "## Leetcode Questions"
      ],
      "metadata": {
        "id": "dzEQCkGjPst9"
      }
    },
    {
      "cell_type": "markdown",
      "source": [
        "### 496. Next Greater Element I"
      ],
      "metadata": {
        "id": "JKy_FMBUyphw"
      }
    },
    {
      "cell_type": "code",
      "source": [
        "class Solution:\n",
        "    def nextGreaterElement(self, nums1: List[int], nums2: List[int]) -> List[int]:\n",
        "        res = []\n",
        "        stack = []\n",
        "        mapping = {}\n",
        "\n",
        "        for num in nums2:\n",
        "            while stack and stack[-1] <= num:\n",
        "                mapping[stack[-1]] = num\n",
        "                stack.pop()\n",
        "            stack.append(num)\n",
        "\n",
        "        for num in nums1:\n",
        "            if num in mapping:\n",
        "                res.append(mapping[num])\n",
        "            else:\n",
        "                res.append(-1)\n",
        "\n",
        "        return res"
      ],
      "metadata": {
        "id": "ydzg4RwJPy3H"
      },
      "execution_count": null,
      "outputs": []
    }
  ]
}
{
  "nbformat": 4,
  "nbformat_minor": 0,
  "metadata": {
    "colab": {
      "provenance": [],
      "toc_visible": true,
      "authorship_tag": "ABX9TyO38HEUE9VyE3S1nXMCt9rL",
      "include_colab_link": true
    },
    "kernelspec": {
      "name": "python3",
      "display_name": "Python 3"
    },
    "language_info": {
      "name": "python"
    }
  },
  "cells": [
    {
      "cell_type": "markdown",
      "metadata": {
        "id": "view-in-github",
        "colab_type": "text"
      },
      "source": [
        "<a href=\"https://colab.research.google.com/github/myappcubic/leet-code-problem-set/blob/main/GraphTheory.ipynb\" target=\"_parent\"><img src=\"https://colab.research.google.com/assets/colab-badge.svg\" alt=\"Open In Colab\"/></a>"
      ]
    },
    {
      "cell_type": "markdown",
      "source": [
        "#Graph Theory"
      ],
      "metadata": {
        "id": "JnAU6EDpnCql"
      }
    },
    {
      "cell_type": "markdown",
      "source": [
        "## DFS"
      ],
      "metadata": {
        "id": "O9edY04W38Rl"
      }
    },
    {
      "cell_type": "markdown",
      "source": [
        "### Generic DFS\n",
        "No Back-tracking"
      ],
      "metadata": {
        "id": "zLJLHdfxBlav"
      }
    },
    {
      "cell_type": "code",
      "source": [
        "graph = {\n",
        "    'A': {'B', 'C'},\n",
        "    'B': {'A', 'D', 'E'},\n",
        "    'C': {'A', 'F'},\n",
        "    'D': {'B'},\n",
        "    'E': {'B', 'F'},\n",
        "    'F': {'C', 'E'}\n",
        "}"
      ],
      "metadata": {
        "id": "pvEFB8op3_Ux"
      },
      "execution_count": 1,
      "outputs": []
    },
    {
      "cell_type": "code",
      "source": [
        "path = []\n",
        "def dfs(graph, start_node, path, visited=None):\n",
        "    # print(f\"function dfs called, start_node is: {start_node}, {visited}, {path}\")\n",
        "    if visited is None:\n",
        "        visited = set()\n",
        "    visited.add(start_node)\n",
        "    path.append(start_node)\n",
        "    for neighbor in graph[start_node]:\n",
        "        # print(f\"looking into neighbor {neighbor} for start_node={start_node}, {visited}\")\n",
        "        if neighbor not in visited:\n",
        "            dfs(graph, neighbor, path, visited)"
      ],
      "metadata": {
        "id": "fsUpwH4r4Bj9"
      },
      "execution_count": 28,
      "outputs": []
    },
    {
      "cell_type": "code",
      "source": [
        "def dfs(graph, start_node, path=None, visited=None):\n",
        "    if visited is None:\n",
        "        visited = set()\n",
        "    if path is None:\n",
        "        path = []\n",
        "\n",
        "    visited.add(start_node)\n",
        "    path.append(start_node)\n",
        "\n",
        "    print(f\"{path}, before for loop, {start_node}\")\n",
        "    for neighbor in graph[start_node]:\n",
        "        if neighbor not in visited:\n",
        "            dfs(graph, neighbor, path, visited)\n",
        "    print(f\"{path}, after for loop, {start_node}\")\n",
        "\n",
        "    return path"
      ],
      "metadata": {
        "id": "-LTaYh0Q8usf"
      },
      "execution_count": 42,
      "outputs": []
    },
    {
      "cell_type": "code",
      "source": [
        "dfs(graph,\"A\")\n"
      ],
      "metadata": {
        "id": "mMzig0v44z93",
        "outputId": "17b0759e-61a9-4528-b972-19707a3c8e54",
        "colab": {
          "base_uri": "https://localhost:8080/"
        }
      },
      "execution_count": 43,
      "outputs": [
        {
          "output_type": "stream",
          "name": "stdout",
          "text": [
            "['A'], before for loop, A\n",
            "['A', 'B'], before for loop, B\n",
            "['A', 'B', 'D'], before for loop, D\n",
            "['A', 'B', 'D'], after for loop, D\n",
            "['A', 'B', 'D', 'E'], before for loop, E\n",
            "['A', 'B', 'D', 'E', 'F'], before for loop, F\n",
            "['A', 'B', 'D', 'E', 'F', 'C'], before for loop, C\n",
            "['A', 'B', 'D', 'E', 'F', 'C'], after for loop, C\n",
            "['A', 'B', 'D', 'E', 'F', 'C'], after for loop, F\n",
            "['A', 'B', 'D', 'E', 'F', 'C'], after for loop, E\n",
            "['A', 'B', 'D', 'E', 'F', 'C'], after for loop, B\n",
            "['A', 'B', 'D', 'E', 'F', 'C'], after for loop, A\n"
          ]
        },
        {
          "output_type": "execute_result",
          "data": {
            "text/plain": [
              "['A', 'B', 'D', 'E', 'F', 'C']"
            ]
          },
          "metadata": {},
          "execution_count": 43
        }
      ]
    },
    {
      "cell_type": "markdown",
      "source": [
        "### DFS with Backtracking"
      ],
      "metadata": {
        "id": "ToeN-WzvBzJr"
      }
    },
    {
      "cell_type": "code",
      "source": [
        "graph = {\n",
        "    'A': ['B', 'C'],\n",
        "    'B': ['D'],\n",
        "    'C': ['D', 'E'],\n",
        "    'D': ['F'],\n",
        "    'E': ['F'],\n",
        "    'F': []\n",
        "}"
      ],
      "metadata": {
        "id": "R5hKPFNVB3hH"
      },
      "execution_count": 44,
      "outputs": []
    },
    {
      "cell_type": "code",
      "source": [
        "def find_all_paths(graph, start_node, end_node, path=None):\n",
        "    if not path:\n",
        "        path = []\n",
        "    path.append(start_node)\n",
        "    print(f\"after appending {start_node}, the path is: {path}\")\n",
        "    if start_node == end_node:\n",
        "        print(\"Path found:\", path)\n",
        "    else:\n",
        "        print(f\"neighbor for our start_node {start_node} is {graph[start_node]}\")\n",
        "        for neighbor in graph[start_node]:\n",
        "            if neighbor not in path:  # Avoid cycles\n",
        "                find_all_paths(graph, neighbor, end_node, path)\n",
        "    path.pop()\n",
        "    print(f\"after poping path at {start_node}, the path is: {path}\")"
      ],
      "metadata": {
        "id": "eJm-7Og6B62H"
      },
      "execution_count": 50,
      "outputs": []
    },
    {
      "cell_type": "code",
      "source": [
        "find_all_paths(graph, 'A', 'F')"
      ],
      "metadata": {
        "id": "j8xYpeXpCYD1",
        "outputId": "01426cd9-ee14-400c-b762-2c19d9b2d21c",
        "colab": {
          "base_uri": "https://localhost:8080/"
        }
      },
      "execution_count": 51,
      "outputs": [
        {
          "output_type": "stream",
          "name": "stdout",
          "text": [
            "after appending A, the path is: ['A']\n",
            "neighbor for our start_node A is ['B', 'C']\n",
            "after appending B, the path is: ['A', 'B']\n",
            "neighbor for our start_node B is ['D']\n",
            "after appending D, the path is: ['A', 'B', 'D']\n",
            "neighbor for our start_node D is ['F']\n",
            "after appending F, the path is: ['A', 'B', 'D', 'F']\n",
            "Path found: ['A', 'B', 'D', 'F']\n",
            "after poping path at F, the path is: ['A', 'B', 'D']\n",
            "after poping path at D, the path is: ['A', 'B']\n",
            "after poping path at B, the path is: ['A']\n",
            "after appending C, the path is: ['A', 'C']\n",
            "neighbor for our start_node C is ['D', 'E']\n",
            "after appending D, the path is: ['A', 'C', 'D']\n",
            "neighbor for our start_node D is ['F']\n",
            "after appending F, the path is: ['A', 'C', 'D', 'F']\n",
            "Path found: ['A', 'C', 'D', 'F']\n",
            "after poping path at F, the path is: ['A', 'C', 'D']\n",
            "after poping path at D, the path is: ['A', 'C']\n",
            "after appending E, the path is: ['A', 'C', 'E']\n",
            "neighbor for our start_node E is ['F']\n",
            "after appending F, the path is: ['A', 'C', 'E', 'F']\n",
            "Path found: ['A', 'C', 'E', 'F']\n",
            "after poping path at F, the path is: ['A', 'C', 'E']\n",
            "after poping path at E, the path is: ['A', 'C']\n",
            "after poping path at C, the path is: ['A']\n",
            "after poping path at A, the path is: []\n"
          ]
        }
      ]
    },
    {
      "cell_type": "markdown",
      "source": [
        "## BFS"
      ],
      "metadata": {
        "id": "eCH5_D1vbnqn"
      }
    },
    {
      "cell_type": "code",
      "source": [
        "# Example graph\n",
        "graph = {\n",
        "    'A': {'B', 'C'},\n",
        "    'B': {'A', 'D', 'E'},\n",
        "    'C': {'A', 'F'},\n",
        "    'D': {'B'},\n",
        "    'E': {'B', 'F'},\n",
        "    'F': {'C', 'E'}\n",
        "}"
      ],
      "metadata": {
        "id": "PGU6a3p-37IF"
      },
      "execution_count": 52,
      "outputs": []
    },
    {
      "cell_type": "code",
      "source": [
        "from collections import deque\n",
        "def bfs(graph, start):\n",
        "    visited = set()\n",
        "    queue = deque([start])\n",
        "    while queue:\n",
        "        vertex = queue.popleft()\n",
        "        if vertex not in visited:\n",
        "            print(vertex)\n",
        "        visited.add(vertex)\n",
        "        for neighbor in graph[vertex]:\n",
        "            if neighbor not in visited:\n",
        "                queue.append(neighbor)"
      ],
      "metadata": {
        "id": "zGXVMl3Lb-fU"
      },
      "execution_count": 60,
      "outputs": []
    },
    {
      "cell_type": "code",
      "source": [
        "bfs(graph, 'A')"
      ],
      "metadata": {
        "id": "ohBsYpnVSXFb",
        "outputId": "2703266e-0250-404d-cfaf-62bae9f98608",
        "colab": {
          "base_uri": "https://localhost:8080/"
        }
      },
      "execution_count": 61,
      "outputs": [
        {
          "output_type": "stream",
          "name": "stdout",
          "text": [
            "A\n",
            "B\n",
            "C\n",
            "D\n",
            "E\n",
            "F\n"
          ]
        }
      ]
    },
    {
      "cell_type": "code",
      "source": [],
      "metadata": {
        "id": "rSBJvNyISZ-b"
      },
      "execution_count": null,
      "outputs": []
    },
    {
      "cell_type": "code",
      "source": [
        "def dfs(graph, start, visited=None):\n",
        "    if not visited:\n",
        "        visited = set()\n",
        "    visited.add(start)\n",
        "    print(start, end=\"\")\n",
        "    for next_node in graph[start]:\n",
        "        if  next_node not in visited:\n",
        "            dfs(graph, next_node, visited)\n",
        "    return visited\n",
        "dfs(graph, 'A')"
      ],
      "metadata": {
        "id": "6fQ0IdgecAND",
        "outputId": "d7a592b8-1bb2-406b-dc50-a808f6c09804",
        "colab": {
          "base_uri": "https://localhost:8080/"
        }
      },
      "execution_count": 70,
      "outputs": [
        {
          "output_type": "stream",
          "name": "stdout",
          "text": [
            "ABDEFC"
          ]
        },
        {
          "output_type": "execute_result",
          "data": {
            "text/plain": [
              "{'A', 'B', 'C', 'D', 'E', 'F'}"
            ]
          },
          "metadata": {},
          "execution_count": 70
        }
      ]
    },
    {
      "cell_type": "code",
      "source": [
        "from collections import deque\n",
        "\n",
        "def bfs(graph, start):\n",
        "    visited = set()\n",
        "    queue = deque([start])\n",
        "    while queue:\n",
        "        vertex = queue.popleft()\n",
        "        if vertex not in visited:\n",
        "            print(vertex)  # Process the node here\n",
        "            visited.add(vertex)\n",
        "            queue.extend(graph[vertex] - visited)\n",
        "\n",
        "\n",
        "# Start BFS from node 'A'\n",
        "bfs(graph, 'A')\n"
      ],
      "metadata": {
        "id": "bRJubT_Qff4u",
        "outputId": "545e3ae4-8433-43fd-bbb8-3d59cac11a67",
        "colab": {
          "base_uri": "https://localhost:8080/"
        }
      },
      "execution_count": 71,
      "outputs": [
        {
          "output_type": "stream",
          "name": "stdout",
          "text": [
            "A\n",
            "B\n",
            "C\n",
            "D\n",
            "E\n",
            "F\n"
          ]
        }
      ]
    },
    {
      "cell_type": "markdown",
      "source": [
        "## LCA"
      ],
      "metadata": {
        "id": "jSWYbY-YwMyI"
      }
    },
    {
      "cell_type": "markdown",
      "source": [
        "### Construct The Tree"
      ],
      "metadata": {
        "id": "N-oa1wyKxU17"
      }
    },
    {
      "cell_type": "code",
      "source": [
        "class TreeNode:\n",
        "    def __init__(self, val):\n",
        "        self.val = val\n",
        "        self.left = None\n",
        "        self.right = None"
      ],
      "metadata": {
        "id": "tEBKS4tCwOqa"
      },
      "execution_count": null,
      "outputs": []
    },
    {
      "cell_type": "code",
      "source": [
        "def construct_complex_tree():\n",
        "    # Create nodes\n",
        "    root = TreeNode(1)\n",
        "    root.left = TreeNode(2)\n",
        "    root.right = TreeNode(3)\n",
        "    root.left.left = TreeNode(4)\n",
        "    root.left.right = TreeNode(5)\n",
        "    root.right.left = TreeNode(6)\n",
        "    root.right.right = TreeNode(7)\n",
        "    root.left.left.left = TreeNode(8)\n",
        "    root.left.right.left = TreeNode(9)\n",
        "    root.left.right.right = TreeNode(10)\n",
        "    root.right.right.left = TreeNode(11)\n",
        "    root.right.right.right = TreeNode(12)\n",
        "\n",
        "    return root\n",
        "\n",
        "# Construct the tree\n",
        "tree = construct_complex_tree()"
      ],
      "metadata": {
        "id": "C66cJpPZwQhu"
      },
      "execution_count": null,
      "outputs": []
    },
    {
      "cell_type": "markdown",
      "source": [
        "\n",
        "\n",
        "```\n",
        "        1\n",
        "      /   \\\n",
        "     2     3\n",
        "    / \\   / \\\n",
        "   4   5 6   7\n",
        "  /   / \\   / \\\n",
        " 8   9  10 11 12\n",
        "```\n",
        "\n"
      ],
      "metadata": {
        "id": "YjIA1w4HKYgt"
      }
    },
    {
      "cell_type": "markdown",
      "source": [
        "### Simple LCA"
      ],
      "metadata": {
        "id": "Wfxmgengw9AC"
      }
    },
    {
      "cell_type": "code",
      "source": [
        "def lca_simple(root, p, q):\n",
        "    if not root or root.val == p or root.val ==q:\n",
        "        return root\n",
        "\n",
        "    left = lca_simple(root.left, p, q)\n",
        "    right = lca_simple(root.right, p, q)\n",
        "\n",
        "    if left and right:\n",
        "        return root\n",
        "    return left if left else right\n"
      ],
      "metadata": {
        "id": "Uy-gBbjmxcIi"
      },
      "execution_count": null,
      "outputs": []
    },
    {
      "cell_type": "markdown",
      "source": [
        "### Give a node value, return the path from the tree root"
      ],
      "metadata": {
        "id": "na-fxzw2-c_X"
      }
    },
    {
      "cell_type": "code",
      "source": [
        "def find_path(root, node, path):\n",
        "    if not root:\n",
        "        return False\n",
        "    path.append(root.val)\n",
        "    if root.val == node:\n",
        "        return True\n",
        "    if (root.left and find_path(root.left, node, path)) or \\\n",
        "     (root.right and find_path(root.right, node, path)):\n",
        "        return True\n",
        "    path.pop()\n",
        "    return False"
      ],
      "metadata": {
        "id": "MR_WE2sdb-jY"
      },
      "execution_count": null,
      "outputs": []
    },
    {
      "cell_type": "code",
      "source": [
        "path = []\n",
        "find_path(tree, 12, path)"
      ],
      "metadata": {
        "colab": {
          "base_uri": "https://localhost:8080/"
        },
        "id": "xQn0EWC5cnqp",
        "outputId": "bd1cccc8-fc66-4714-8aac-f6d07fd9a923"
      },
      "execution_count": null,
      "outputs": [
        {
          "output_type": "execute_result",
          "data": {
            "text/plain": [
              "True"
            ]
          },
          "metadata": {},
          "execution_count": 5
        }
      ]
    },
    {
      "cell_type": "code",
      "source": [
        "path"
      ],
      "metadata": {
        "colab": {
          "base_uri": "https://localhost:8080/"
        },
        "id": "x9gqfnHkdAjb",
        "outputId": "ece5cfb8-7582-4291-9401-1cfdf50348b3"
      },
      "execution_count": null,
      "outputs": [
        {
          "output_type": "execute_result",
          "data": {
            "text/plain": [
              "[1, 3, 7, 12]"
            ]
          },
          "metadata": {},
          "execution_count": 7
        }
      ]
    },
    {
      "cell_type": "code",
      "source": [
        "graph = {\n",
        "    'A': ['B', 'C', 'D', 'O'],\n",
        "    'B': ['A', 'E', 'F'],\n",
        "    'C': ['A', 'G'],\n",
        "    'D': ['A', 'H', 'I'],\n",
        "    'E': ['B'],\n",
        "    'F': ['B', 'J'],\n",
        "    'G': ['C', 'K'],\n",
        "    'H': ['D'],\n",
        "    'I': ['D'],\n",
        "    'J': ['F', 'L'],\n",
        "    'K': ['G', 'M'],\n",
        "    'L': ['J', 'N'],\n",
        "    'M': ['K'],\n",
        "    'N': ['L'],\n",
        "    'O': ['A']\n",
        "}"
      ],
      "metadata": {
        "id": "RBGIi0mFy5MA"
      },
      "execution_count": 56,
      "outputs": []
    },
    {
      "cell_type": "code",
      "source": [
        "from collections import deque, defaultdict\n",
        "def bfs_iter(graph, start):\n",
        "    distances = {node: float(\"inf\") for node in graph}\n",
        "    distances[start] = 0\n",
        "    queue = deque([start])\n",
        "\n",
        "    while queue:\n",
        "        node = queue.popleft()\n",
        "        for neighbor in graph[node]:\n",
        "            if distances[neighbor] == float('inf'):\n",
        "                distances[neighbor] = distances[node] + 1\n",
        "                queue.append(neighbor)\n",
        "    return distances\n",
        "\n",
        "result = bfs_iter(graph, 'A')"
      ],
      "metadata": {
        "id": "jJbH9_nqy5Z1"
      },
      "execution_count": null,
      "outputs": []
    },
    {
      "cell_type": "code",
      "source": [
        "result"
      ],
      "metadata": {
        "id": "2FXEwpWnzHoY",
        "colab": {
          "base_uri": "https://localhost:8080/"
        },
        "outputId": "cfe2707b-d121-4127-cead-dec2f92e4eda"
      },
      "execution_count": null,
      "outputs": [
        {
          "output_type": "execute_result",
          "data": {
            "text/plain": [
              "{'A': 0,\n",
              " 'B': 1,\n",
              " 'C': 1,\n",
              " 'D': 1,\n",
              " 'E': 2,\n",
              " 'F': 2,\n",
              " 'G': 2,\n",
              " 'H': 2,\n",
              " 'I': 2,\n",
              " 'J': 3,\n",
              " 'K': 3,\n",
              " 'L': 4,\n",
              " 'M': 4,\n",
              " 'N': 5,\n",
              " 'O': 1}"
            ]
          },
          "metadata": {},
          "execution_count": 24
        }
      ]
    },
    {
      "cell_type": "code",
      "source": [
        "graph = {\n",
        "    0: [1, 2],\n",
        "    1: [2],\n",
        "    2: [0, 3],\n",
        "    3: [3]\n",
        "}"
      ],
      "metadata": {
        "id": "QVRe2TXONGmg"
      },
      "execution_count": null,
      "outputs": []
    },
    {
      "cell_type": "code",
      "source": [
        "def has_cycle(graph):\n",
        "    visited = set()\n",
        "    path = set()\n",
        "\n",
        "    def dfs(node):\n",
        "        if node in path:\n",
        "            return True\n",
        "        if node in visited:\n",
        "            return\n",
        "\n",
        "        path.add(node)\n",
        "        visited.add(node)\n",
        "\n",
        "        for neighbor in graph.get(node, []):\n",
        "            if dfs(neighbor):\n",
        "                return True\n",
        "\n",
        "        path.remove(node)\n",
        "        return\n",
        "\n",
        "    for node in graph:\n",
        "        if dfs(node):\n",
        "            print(path)\n",
        "            return True\n",
        "    return False\n",
        "\n",
        "print(has_cycle(graph))\n",
        "\n"
      ],
      "metadata": {
        "id": "W4q54I5kRJhD",
        "outputId": "b08713ed-7603-4f07-815a-ec7b78c6729f",
        "colab": {
          "base_uri": "https://localhost:8080/"
        }
      },
      "execution_count": null,
      "outputs": [
        {
          "output_type": "stream",
          "name": "stdout",
          "text": [
            "{0, 1, 2}\n",
            "True\n"
          ]
        }
      ]
    },
    {
      "cell_type": "markdown",
      "source": [
        "Topological Sort"
      ],
      "metadata": {
        "id": "He3UStmosQ-e"
      }
    },
    {
      "cell_type": "code",
      "source": [
        "def topological_sort_recursive(graph):\n",
        "    def dfs(node):\n",
        "        visited.add(node)\n",
        "        for neighbor in graph[node]:\n",
        "            if neighbor not in visited:\n",
        "                dfs(neighbor)\n",
        "        stack.append(node)\n",
        "\n",
        "    visited = set()\n",
        "    stack = []\n",
        "\n",
        "    for node in graph:\n",
        "        if node not in visited:\n",
        "            dfs(node)\n",
        "\n",
        "    stack.reverse()  # Since we want to return the elements in reverse order of their finishing times\n",
        "    return stack\n",
        "\n",
        "# Example graph\n",
        "graph = {\n",
        "    'A': ['C', 'D'],\n",
        "    'B': ['D', 'E'],\n",
        "    'C': ['F'],\n",
        "    'D': ['F'],\n",
        "    'E': ['G'],\n",
        "    'F': ['H'],\n",
        "    'G': ['H'],\n",
        "    'H': []\n",
        "}\n",
        "\n",
        "print(topological_sort_recursive(graph))\n"
      ],
      "metadata": {
        "id": "X-iPeLh4pMul",
        "outputId": "3c9431b0-91a0-45b5-80b7-2158c26e302d",
        "colab": {
          "base_uri": "https://localhost:8080/"
        }
      },
      "execution_count": null,
      "outputs": [
        {
          "output_type": "stream",
          "name": "stdout",
          "text": [
            "['B', 'E', 'G', 'A', 'D', 'C', 'F', 'H']\n"
          ]
        }
      ]
    },
    {
      "cell_type": "code",
      "source": [
        "from collections import deque, defaultdict\n",
        "\n",
        "def topological_sort_iterative(graph):\n",
        "    in_degree = defaultdict(int)\n",
        "    for node in graph:\n",
        "        for neighbor in graph[node]:\n",
        "            in_degree[neighbor] += 1\n",
        "\n",
        "    # Queue for nodes with no incoming edges\n",
        "    queue = deque([node for node in graph if in_degree[node] == 0])\n",
        "    top_order = []\n",
        "\n",
        "    while queue:\n",
        "        current_node = queue.popleft()\n",
        "        top_order.append(current_node)\n",
        "\n",
        "        for neighbor in graph[current_node]:\n",
        "            in_degree[neighbor] -= 1\n",
        "            if in_degree[neighbor] == 0:\n",
        "                queue.append(neighbor)\n",
        "\n",
        "    if len(top_order) == len(graph):\n",
        "        return top_order\n",
        "    else:\n",
        "        return []  # Graph has a cycle\n",
        "\n",
        "# Example graph\n",
        "graph = {\n",
        "    'A': ['C', 'D'],\n",
        "    'B': ['D', 'E'],\n",
        "    'C': ['F'],\n",
        "    'D': ['F'],\n",
        "    'E': ['G'],\n",
        "    'F': ['H'],\n",
        "    'G': ['H'],\n",
        "    'H': []\n",
        "}\n",
        "\n",
        "print(topological_sort_iterative(graph))\n"
      ],
      "metadata": {
        "id": "IOFir7DntvhY",
        "outputId": "b0903f2c-c3f2-4477-ff65-30eec9d82fde",
        "colab": {
          "base_uri": "https://localhost:8080/"
        }
      },
      "execution_count": null,
      "outputs": [
        {
          "output_type": "stream",
          "name": "stdout",
          "text": [
            "['A', 'B', 'C', 'D', 'E', 'F', 'G', 'H']\n"
          ]
        }
      ]
    },
    {
      "cell_type": "code",
      "source": [
        "from collections import defaultdict\n",
        "def find_indegree(graph):\n",
        "    in_degree = defaultdict(int)\n",
        "    for node in graph:\n",
        "        for neighbor in graph[node]:\n",
        "            in_degree[neighbor] += 1\n",
        "    print(in_degree)\n",
        "    return in_degree\n",
        "in_degree = find_indegree(graph)"
      ],
      "metadata": {
        "id": "MSLWNPy9tv6H",
        "outputId": "bfa079cd-068e-4b3e-d929-513708e5af3a",
        "colab": {
          "base_uri": "https://localhost:8080/"
        }
      },
      "execution_count": null,
      "outputs": [
        {
          "output_type": "stream",
          "name": "stdout",
          "text": [
            "defaultdict(<class 'int'>, {'C': 1, 'D': 2, 'E': 1, 'F': 2, 'G': 1, 'H': 2})\n"
          ]
        }
      ]
    },
    {
      "cell_type": "code",
      "source": [
        "start_of_deque = deque([node for node in graph if in_degree[node]==0])"
      ],
      "metadata": {
        "id": "aP-aaTuUwA2_"
      },
      "execution_count": null,
      "outputs": []
    },
    {
      "cell_type": "code",
      "source": [
        "start_of_deque"
      ],
      "metadata": {
        "id": "wMluZhoIyTD6",
        "outputId": "c0275011-727e-440d-f82b-94efbf27ac32",
        "colab": {
          "base_uri": "https://localhost:8080/"
        }
      },
      "execution_count": null,
      "outputs": [
        {
          "output_type": "execute_result",
          "data": {
            "text/plain": [
              "deque(['A', 'B'])"
            ]
          },
          "metadata": {},
          "execution_count": 37
        }
      ]
    },
    {
      "cell_type": "code",
      "source": [
        "def topological_sort_iterative(graph, queue, in_degree):\n",
        "    result = []\n",
        "    while queue:\n",
        "        current_node = queue.popleft()\n",
        "        result.append(current_node)\n",
        "\n",
        "        for neighbor in graph[current_node]:\n",
        "            in_degree[neighbor] -= 1\n",
        "            if in_degree[neighbor] == 0:\n",
        "                queue.append(neighbor)\n",
        "    print(result)\n",
        "\n"
      ],
      "metadata": {
        "id": "7rw5qB99wPZQ"
      },
      "execution_count": null,
      "outputs": []
    },
    {
      "cell_type": "code",
      "source": [
        "topological_sort_iterative(graph,start_of_deque,in_degree )"
      ],
      "metadata": {
        "id": "p3Gc5ttAwV-r",
        "outputId": "746e0484-71ab-414e-9efe-0ac10741357e",
        "colab": {
          "base_uri": "https://localhost:8080/"
        }
      },
      "execution_count": null,
      "outputs": [
        {
          "output_type": "stream",
          "name": "stdout",
          "text": [
            "['A', 'B', 'C', 'D', 'E', 'F', 'G', 'H']\n"
          ]
        }
      ]
    },
    {
      "cell_type": "markdown",
      "source": [],
      "metadata": {
        "id": "kBofrc1d4Hb2"
      }
    },
    {
      "cell_type": "code",
      "source": [
        "def topological_sort_recursive(graph):\n",
        "    def dfs(node):\n",
        "        print(visited)\n",
        "        if node in recursion_stack:\n",
        "            raise ValueError(\"Graph has a cycle\")\n",
        "        if node not in visited:\n",
        "            recursion_stack.add(node)\n",
        "            for neighbor in graph[node]:\n",
        "                dfs(neighbor)\n",
        "            recursion_stack.remove(node)\n",
        "            visited.add(node)\n",
        "            stack.append(node)\n",
        "\n",
        "    visited = set()\n",
        "    recursion_stack = set()\n",
        "    stack = []\n",
        "\n",
        "    for node in graph:\n",
        "        if node not in visited:\n",
        "            dfs(node)\n",
        "\n",
        "    stack.reverse()  # Since we want to return the elements in reverse order of their finishing times\n",
        "    return stack\n",
        "\n",
        "# Example graph (without a cycle)\n",
        "graph = {\n",
        "    'A': ['C', 'D'],\n",
        "    'B': ['D', 'E'],\n",
        "    'C': ['F'],\n",
        "    'D': ['F'],\n",
        "    'E': ['G'],\n",
        "    'F': ['H'],\n",
        "    'G': ['H'],\n",
        "    'H': []\n",
        "}\n",
        "\n",
        "try:\n",
        "    print(topological_sort_recursive(graph))\n",
        "except ValueError as e:\n",
        "    print(e)\n",
        "\n",
        "# Example graph (with a cycle)\n",
        "graph_with_cycle = {\n",
        "    'A': ['C', 'D'],\n",
        "    'B': ['D', 'E'],\n",
        "    'C': ['F'],\n",
        "    'D': ['F'],\n",
        "    'E': ['G'],\n",
        "    'F': ['H'],\n",
        "    'G': ['H'],\n",
        "    'H': ['A']  # Introduces a cycle\n",
        "}\n",
        "\n",
        "try:\n",
        "    print(topological_sort_recursive(graph_with_cycle))\n",
        "except ValueError as e:\n",
        "    print(e)\n"
      ],
      "metadata": {
        "id": "AvNbYfgX1vcb",
        "outputId": "2d114d37-40a1-4620-d903-d94e90376542",
        "colab": {
          "base_uri": "https://localhost:8080/"
        }
      },
      "execution_count": null,
      "outputs": [
        {
          "output_type": "stream",
          "name": "stdout",
          "text": [
            "set()\n",
            "set()\n",
            "set()\n",
            "set()\n",
            "{'C', 'H', 'F'}\n",
            "{'C', 'H', 'F'}\n",
            "{'F', 'H', 'D', 'C', 'A'}\n",
            "{'F', 'H', 'D', 'C', 'A'}\n",
            "{'F', 'H', 'D', 'C', 'A'}\n",
            "{'F', 'H', 'D', 'C', 'A'}\n",
            "{'F', 'H', 'D', 'C', 'A'}\n",
            "['B', 'E', 'G', 'A', 'D', 'C', 'F', 'H']\n",
            "set()\n",
            "set()\n",
            "set()\n",
            "set()\n",
            "set()\n",
            "Graph has a cycle\n"
          ]
        }
      ]
    },
    {
      "cell_type": "code",
      "source": [
        "from collections import defaultdict\n",
        "\n",
        "def topological_sort_recursive(graph):\n",
        "    def dfs(node):\n",
        "        # Mark the current node as visited and add to recursion stack\n",
        "        visited.add(node)\n",
        "        recursion_stack.add(node)\n",
        "\n",
        "        # Recur for all the vertices adjacent to this vertex\n",
        "        for neighbor in graph[node]:\n",
        "            if neighbor in recursion_stack:\n",
        "                # Cycle detected\n",
        "                return False\n",
        "            if neighbor not in visited:\n",
        "                if not dfs(neighbor):\n",
        "                    return False\n",
        "\n",
        "        # Remove the vertex from recursion stack\n",
        "        recursion_stack.remove(node)\n",
        "        # Push current vertex to stack which stores result\n",
        "        stack.append(node)\n",
        "        return True\n",
        "\n",
        "    visited = set()\n",
        "    recursion_stack = set()\n",
        "    stack = []\n",
        "\n",
        "    # Call the recursive helper function to store Topological Sort\n",
        "    # starting from all vertices one by one\n",
        "    for node in graph:\n",
        "        if node not in visited:\n",
        "            if not dfs(node):\n",
        "                return None  # Cycle detected, return None\n",
        "\n",
        "    # Return the stack in reverse order\n",
        "    return stack[::-1]\n",
        "\n",
        "# Example usage\n",
        "graph = {\n",
        "    'A': ['B', 'C'],\n",
        "    'B': ['D'],\n",
        "    'C': ['D'],\n",
        "    'D': ['E'],\n",
        "    'E': []\n",
        "}\n",
        "\n",
        "print(topological_sort_recursive(graph))\n",
        "\n",
        "# Example with a cycle\n",
        "graph_with_cycle = {\n",
        "    'A': ['B', 'C'],\n",
        "    'B': ['D'],\n",
        "    'C': ['D'],\n",
        "    'D': ['E'],\n",
        "    'E': ['B']  # This creates a cycle\n",
        "}\n",
        "\n",
        "print(topological_sort_recursive(graph_with_cycle))"
      ],
      "metadata": {
        "id": "GxZKptnC1v9I",
        "outputId": "8863e802-e47e-473e-b82b-65f541e0895c",
        "colab": {
          "base_uri": "https://localhost:8080/"
        }
      },
      "execution_count": null,
      "outputs": [
        {
          "output_type": "stream",
          "name": "stdout",
          "text": [
            "['A', 'C', 'B', 'D', 'E']\n",
            "None\n"
          ]
        }
      ]
    },
    {
      "cell_type": "markdown",
      "source": [
        "## Iterative Methods"
      ],
      "metadata": {
        "id": "wsrfEdnLr6-g"
      }
    },
    {
      "cell_type": "markdown",
      "source": [
        "### Find the center"
      ],
      "metadata": {
        "id": "a-jS5Xg3r-q-"
      }
    },
    {
      "cell_type": "code",
      "source": [
        "graph = {\n",
        "    0: [1, 2],\n",
        "    1: [2],\n",
        "    2: [3],\n",
        "    3: [4],\n",
        "    4:[0]\n",
        "}"
      ],
      "metadata": {
        "id": "bm9Ylca2sA0t"
      },
      "execution_count": 28,
      "outputs": []
    },
    {
      "cell_type": "markdown",
      "source": [
        "### Detect a cycle"
      ],
      "metadata": {
        "id": "rQQp9OtKsDpS"
      }
    },
    {
      "cell_type": "code",
      "source": [
        "# Example usage:\n",
        "graph = {\n",
        "    'A': ['B', 'C'],\n",
        "    'B': ['D'],\n",
        "    'C': ['E'],\n",
        "    'D': ['C', 'E'],\n",
        "    'E': ['A']\n",
        "}"
      ],
      "metadata": {
        "id": "T9dDc_eDNfB_"
      },
      "execution_count": 63,
      "outputs": []
    },
    {
      "cell_type": "code",
      "source": [
        "def detect_cycle(graph):\n",
        "    visited = set()\n",
        "    stack = []\n",
        "\n",
        "    for start_node in graph:\n",
        "        if start_node not in visited:\n",
        "            stack.append((start_node, []))\n",
        "\n",
        "            while stack:\n",
        "                node, path = stack.pop()\n",
        "\n",
        "                if node in path:\n",
        "                    cycle_start = path.index(node)\n",
        "                    return path[cycle_start:] + [node]\n",
        "\n",
        "                if node not in visited:\n",
        "                    visited.add(node)\n",
        "                    for neighbor in graph[node]:\n",
        "                        stack.append((neighbor, path + [node]))\n",
        "\n",
        "    return None\n",
        "\n",
        "cycle_path = detect_cycle(graph)\n",
        "print(\"Cycle detected:\" if cycle_path else \"No cycle detected\")\n",
        "if cycle_path:\n",
        "    print(\"Cycle path:\", cycle_path)\n"
      ],
      "metadata": {
        "colab": {
          "base_uri": "https://localhost:8080/"
        },
        "id": "sOLS31wZ8rqY",
        "outputId": "9aebf91e-87a1-4ca8-a701-8fd419b75633"
      },
      "execution_count": 64,
      "outputs": [
        {
          "output_type": "stream",
          "name": "stdout",
          "text": [
            "Cycle detected:\n",
            "Cycle path: ['A', 'C', 'E', 'A']\n"
          ]
        }
      ]
    },
    {
      "cell_type": "code",
      "source": [
        "def det_cycle_iter(graph):\n",
        "    visited = set()\n",
        "    stack = []\n",
        "    for start_node in graph:\n",
        "        if start_node not in visited:\n",
        "            stack.append((start_node, []))"
      ],
      "metadata": {
        "id": "YjzaWW2fNkK3"
      },
      "execution_count": null,
      "outputs": []
    },
    {
      "cell_type": "code",
      "source": [
        "print(has_cycle(graph))"
      ],
      "metadata": {
        "colab": {
          "base_uri": "https://localhost:8080/"
        },
        "id": "DbKcBFyxw8HU",
        "outputId": "8a13578f-43f5-4fe4-b5f6-cd016d739727"
      },
      "execution_count": 43,
      "outputs": [
        {
          "output_type": "stream",
          "name": "stdout",
          "text": [
            "A set()\n",
            "{'A', 'B', 'D', 'E', 'C'}\n",
            "True\n"
          ]
        }
      ]
    },
    {
      "cell_type": "code",
      "source": [
        "def detect_cycle(graph):\n",
        "    def dfs(node, path):\n",
        "        if node in path:\n",
        "            cycle_start = path.index(node)\n",
        "            return path[cycle_start:] + [node]\n",
        "\n",
        "        path.append(node)\n",
        "\n",
        "        for neighbor in graph[node]:\n",
        "            if neighbor not in visited:\n",
        "                result = dfs(neighbor, path)\n",
        "                if result:\n",
        "                    return result\n",
        "\n",
        "        path.pop()\n",
        "        visited.add(node)\n",
        "        return None\n",
        "\n",
        "    visited = set()\n",
        "\n",
        "    for start_node in graph:\n",
        "        if start_node not in visited:\n",
        "            result = dfs(start_node, [])\n",
        "            if result:\n",
        "                return result\n",
        "\n",
        "    return None\n",
        "\n",
        "# Example usage:\n",
        "graph = {\n",
        "    'A': ['B', 'C'],\n",
        "    'B': ['D'],\n",
        "    'C': ['E'],\n",
        "    'D': ['C', 'E'],\n",
        "    'E': ['A']\n",
        "}\n",
        "\n",
        "cycle_path = detect_cycle(graph)\n",
        "print(\"Cycle detected:\" if cycle_path else \"No cycle detected\")\n",
        "if cycle_path:\n",
        "    print(\"Cycle path:\", cycle_path)\n"
      ],
      "metadata": {
        "colab": {
          "base_uri": "https://localhost:8080/"
        },
        "id": "9D6UiAx6clr4",
        "outputId": "7114329e-1511-4c8a-c6b5-6dbd6bb39d34"
      },
      "execution_count": 44,
      "outputs": [
        {
          "output_type": "stream",
          "name": "stdout",
          "text": [
            "Cycle detected:\n",
            "Cycle path: ['A', 'B', 'D', 'C', 'E', 'A']\n"
          ]
        }
      ]
    },
    {
      "cell_type": "markdown",
      "source": [
        "### Find Center of a Graph"
      ],
      "metadata": {
        "id": "oDjuRf6NNHW9"
      }
    },
    {
      "cell_type": "code",
      "source": [
        "from collections import deque, defaultdict\n",
        "\n",
        "def bfs(graph, start):\n",
        "    distances = {node: float('inf') for node in graph}\n",
        "    distances[start] = 0\n",
        "    queue = deque([start])\n",
        "\n",
        "    while queue:\n",
        "        node = queue.popleft()\n",
        "        for neighbor in graph[node]:\n",
        "            if distances[neighbor] == float('inf'):\n",
        "                distances[neighbor] = distances[node] + 1\n",
        "                queue.append(neighbor)\n",
        "\n",
        "    return distances\n",
        "\n",
        "def find_center(graph):\n",
        "    eccentricities = {}\n",
        "    for node in graph:\n",
        "        distances = bfs(graph, node)\n",
        "        eccentricities[node] = max(distances.values())\n",
        "\n",
        "    min_eccentricity = min(eccentricities.values())\n",
        "    center_nodes = [node for node, ecc in eccentricities.items() if ecc == min_eccentricity]\n",
        "\n",
        "    return center_nodes\n",
        "\n",
        "# Example usage:\n",
        "graph = {\n",
        "    'A': ['B', 'C', 'D', 'O'],\n",
        "    'B': ['A', 'E', 'F'],\n",
        "    'C': ['A', 'G'],\n",
        "    'D': ['A', 'H', 'I'],\n",
        "    'E': ['B'],\n",
        "    'F': ['B', 'J'],\n",
        "    'G': ['C', 'K'],\n",
        "    'H': ['D'],\n",
        "    'I': ['D'],\n",
        "    'J': ['F', 'L'],\n",
        "    'K': ['G', 'M'],\n",
        "    'L': ['J', 'N'],\n",
        "    'M': ['K'],\n",
        "    'N': ['L'],\n",
        "    'O': ['A']\n",
        "}\n",
        "center_nodes = find_center(graph)\n",
        "print(\"Center node(s):\", center_nodes)\n"
      ],
      "metadata": {
        "colab": {
          "base_uri": "https://localhost:8080/"
        },
        "id": "DTHAgJW4pBsr",
        "outputId": "f1b9878e-2e71-47eb-aeb0-e7621dfa6dd4"
      },
      "execution_count": 38,
      "outputs": [
        {
          "output_type": "stream",
          "name": "stdout",
          "text": [
            "Center node(s): ['A', 'B']\n"
          ]
        }
      ]
    },
    {
      "cell_type": "code",
      "source": [
        "distances = {node:float('inf') for node in graph}\n",
        "distances"
      ],
      "metadata": {
        "colab": {
          "base_uri": "https://localhost:8080/"
        },
        "id": "NZUm27UPrijf",
        "outputId": "db8664f0-9d55-4852-ddea-ade4083f96ae"
      },
      "execution_count": 40,
      "outputs": [
        {
          "output_type": "execute_result",
          "data": {
            "text/plain": [
              "{'A': inf,\n",
              " 'B': inf,\n",
              " 'C': inf,\n",
              " 'D': inf,\n",
              " 'E': inf,\n",
              " 'F': inf,\n",
              " 'G': inf,\n",
              " 'H': inf,\n",
              " 'I': inf,\n",
              " 'J': inf,\n",
              " 'K': inf,\n",
              " 'L': inf,\n",
              " 'M': inf,\n",
              " 'N': inf,\n",
              " 'O': inf}"
            ]
          },
          "metadata": {},
          "execution_count": 40
        }
      ]
    },
    {
      "cell_type": "code",
      "source": [
        "def bfs(graph, start):\n",
        "    distances = {node:float('inf') for node in graph}\n",
        "    distances[start] = 0\n",
        "    queue = deque([start])\n",
        "    while queue:\n",
        "        node = queue.popleft()\n",
        "        for neighbor in graph[node]:\n",
        "            if distances[neighbor] == float('inf'):\n",
        "                distances[neighbor] = distances[node] + 1\n",
        "                queue.append(neighbor)\n",
        "\n",
        "    return distances\n",
        "print(bfs(graph, 'H'))"
      ],
      "metadata": {
        "colab": {
          "base_uri": "https://localhost:8080/"
        },
        "id": "8w4fkEgGragt",
        "outputId": "482b9171-fa03-4d14-e36c-f4f1387f52df"
      },
      "execution_count": 46,
      "outputs": [
        {
          "output_type": "stream",
          "name": "stdout",
          "text": [
            "{'A': 2, 'B': 3, 'C': 3, 'D': 1, 'E': 4, 'F': 4, 'G': 4, 'H': 0, 'I': 2, 'J': 5, 'K': 5, 'L': 6, 'M': 6, 'N': 7, 'O': 3}\n"
          ]
        }
      ]
    },
    {
      "cell_type": "code",
      "source": [
        "eccentricities = {}\n",
        "for node in graph:\n",
        "    distances = bfs(graph, node)\n",
        "    eccentricities[node] = max(distances.values())"
      ],
      "metadata": {
        "id": "VTeswOZHwBuQ"
      },
      "execution_count": 44,
      "outputs": []
    },
    {
      "cell_type": "code",
      "source": [
        "eccentricities"
      ],
      "metadata": {
        "colab": {
          "base_uri": "https://localhost:8080/"
        },
        "id": "2yjZfjy9wEmE",
        "outputId": "64c31048-696c-40f0-f701-d441eb89d47c"
      },
      "execution_count": 45,
      "outputs": [
        {
          "output_type": "execute_result",
          "data": {
            "text/plain": [
              "{'A': 5,\n",
              " 'B': 5,\n",
              " 'C': 6,\n",
              " 'D': 6,\n",
              " 'E': 6,\n",
              " 'F': 6,\n",
              " 'G': 7,\n",
              " 'H': 7,\n",
              " 'I': 7,\n",
              " 'J': 7,\n",
              " 'K': 8,\n",
              " 'L': 8,\n",
              " 'M': 9,\n",
              " 'N': 9,\n",
              " 'O': 6}"
            ]
          },
          "metadata": {},
          "execution_count": 45
        }
      ]
    },
    {
      "cell_type": "markdown",
      "source": [
        "### Topological Sort\n",
        "- Use `in_degree` dict (`in_degree[node]`) to describe how many other nodes back-connects to a given node\n",
        "- Start from nodes with `in_drgree = 0`\n",
        "- When going through nodes with `in_drgree = 0`, visit its `neighbor`, therefore can safely do `in_degree - 1` because the node is already visited\n",
        "- Whenever there is a in_degree = 0 during the process append to the `queue`"
      ],
      "metadata": {
        "id": "1DJ8OHhZlM7Y"
      }
    },
    {
      "cell_type": "code",
      "source": [
        "graph = {\n",
        "    'A': ['C'],\n",
        "    'B': ['C', 'D'],\n",
        "    'C': ['E'],\n",
        "    'D': ['F'],\n",
        "    'E': ['H'],\n",
        "    'F': ['G'],\n",
        "    'G': [],\n",
        "    'H': []\n",
        "}"
      ],
      "metadata": {
        "id": "lHHIbYb5yAkX"
      },
      "execution_count": 60,
      "outputs": []
    },
    {
      "cell_type": "code",
      "source": [
        "from collections import deque, defaultdict\n",
        "in_degree = defaultdict(int)\n",
        "for node in graph:\n",
        "    for neighbor in graph[node]:\n",
        "        in_degree[neighbor] += 1\n",
        "queue = deque([node for node in graph if in_degree[node]==0])\n",
        "print(queue)"
      ],
      "metadata": {
        "colab": {
          "base_uri": "https://localhost:8080/"
        },
        "id": "9zdkXE44ghdo",
        "outputId": "c91b13bb-2a3c-47a0-b72a-6c2fe3c5a181"
      },
      "execution_count": 61,
      "outputs": [
        {
          "output_type": "stream",
          "name": "stdout",
          "text": [
            "deque(['A', 'B'])\n"
          ]
        }
      ]
    },
    {
      "cell_type": "code",
      "source": [
        "in_degree"
      ],
      "metadata": {
        "colab": {
          "base_uri": "https://localhost:8080/"
        },
        "id": "a3g58_i2FfD9",
        "outputId": "aa91477e-8d7a-4c03-fd58-fb48a322958b"
      },
      "execution_count": 62,
      "outputs": [
        {
          "output_type": "execute_result",
          "data": {
            "text/plain": [
              "defaultdict(int,\n",
              "            {'C': 2, 'D': 1, 'E': 1, 'F': 1, 'H': 1, 'G': 1, 'A': 0, 'B': 0})"
            ]
          },
          "metadata": {},
          "execution_count": 62
        }
      ]
    },
    {
      "cell_type": "code",
      "source": [
        "from collections import defaultdict\n",
        "in_degree = defaultdict(int)\n",
        "for node in graph:\n",
        "    for neighbor in graph[node]:\n",
        "        in_degree[neighbor] += 1"
      ],
      "metadata": {
        "id": "jwJjfILcDofE"
      },
      "execution_count": 57,
      "outputs": []
    },
    {
      "cell_type": "code",
      "source": [
        "in_degree"
      ],
      "metadata": {
        "colab": {
          "base_uri": "https://localhost:8080/"
        },
        "id": "LCtr9uv8EuSD",
        "outputId": "13781e1a-4542-4297-fa51-68ab0c4ff391"
      },
      "execution_count": 58,
      "outputs": [
        {
          "output_type": "execute_result",
          "data": {
            "text/plain": [
              "defaultdict(int,\n",
              "            {'B': 3,\n",
              "             'C': 2,\n",
              "             'D': 3,\n",
              "             'O': 1,\n",
              "             'A': 4,\n",
              "             'E': 1,\n",
              "             'F': 2,\n",
              "             'G': 2,\n",
              "             'H': 1,\n",
              "             'I': 1,\n",
              "             'J': 2,\n",
              "             'K': 2,\n",
              "             'L': 2,\n",
              "             'M': 1,\n",
              "             'N': 1})"
            ]
          },
          "metadata": {},
          "execution_count": 58
        }
      ]
    },
    {
      "cell_type": "code",
      "source": [
        "topo_order = []\n",
        "while queue:\n",
        "    node = queue.popleft()\n",
        "    topo_order.append(node)\n",
        "    for neighbor in graph[node]:\n",
        "        in_degree[neighbor] -= 1\n",
        "        if in_degree[neighbor] == 0:\n",
        "            queue.append(neighbor)\n",
        "print(topo_order)"
      ],
      "metadata": {
        "colab": {
          "base_uri": "https://localhost:8080/"
        },
        "id": "9US5V7FuhLj-",
        "outputId": "471f24c7-d0d9-45d3-bb2e-13afc3de77ce"
      },
      "execution_count": 49,
      "outputs": [
        {
          "output_type": "stream",
          "name": "stdout",
          "text": [
            "['A', 'B', 'C', 'D', 'E', 'F', 'H', 'G']\n"
          ]
        }
      ]
    },
    {
      "cell_type": "code",
      "source": [
        "from collections import defaultdict, deque\n",
        "\n",
        "def topological_sort(graph):\n",
        "    # Step 1: Calculate in-degrees of all nodes\n",
        "    in_degree = {node: 0 for node in graph}\n",
        "    for node in graph:\n",
        "        for neighbor in graph[node]:\n",
        "            in_degree[neighbor] += 1\n",
        "\n",
        "    # Step 2: Collect nodes with no incoming edges\n",
        "    queue = deque([node for node in graph if in_degree[node] == 0])\n",
        "    top_order = []\n",
        "\n",
        "    # Step 3: Process nodes with no incoming edges\n",
        "    while queue:\n",
        "        node = queue.popleft()\n",
        "        top_order.append(node)\n",
        "\n",
        "        # Reduce in-degree of neighbors and add them to the queue if they have no incoming edges\n",
        "        for neighbor in graph[node]:\n",
        "            in_degree[neighbor] -= 1\n",
        "            if in_degree[neighbor] == 0:\n",
        "                queue.append(neighbor)\n",
        "\n",
        "    # If top_order contains all nodes, return it; otherwise, there was a cycle\n",
        "    if len(top_order) == len(graph):\n",
        "        return top_order\n",
        "    else:\n",
        "        return \"Graph has a cycle, topological sorting is not possible.\"\n",
        "\n",
        "# Example usage:\n",
        "graph = {\n",
        "    'A': ['C'],\n",
        "    'B': ['C', 'D'],\n",
        "    'C': ['E'],\n",
        "    'D': ['F'],\n",
        "    'E': ['H'],\n",
        "    'F': ['G'],\n",
        "    'G': [],\n",
        "    'H': []\n",
        "}\n",
        "\n",
        "top_order = topological_sort(graph)\n",
        "print(\"Topological Order:\", top_order)\n"
      ],
      "metadata": {
        "colab": {
          "base_uri": "https://localhost:8080/"
        },
        "id": "Cy7sxOjZ133C",
        "outputId": "47e57a49-ad33-4818-8990-389baaa5014f"
      },
      "execution_count": 50,
      "outputs": [
        {
          "output_type": "stream",
          "name": "stdout",
          "text": [
            "Topological Order: ['A', 'B', 'C', 'D', 'E', 'F', 'H', 'G']\n"
          ]
        }
      ]
    },
    {
      "cell_type": "markdown",
      "source": [
        "## Dijkstra's\n",
        "Dijkstra's algorithm finds the `shortest paths` from a `source` node to **all** other nodes in a weighted graph."
      ],
      "metadata": {
        "id": "6gWcD-oq14ah"
      }
    },
    {
      "cell_type": "code",
      "source": [
        "graph = {\n",
        "    'A': {'B': 1, 'C': 4},\n",
        "    'B': {'A': 1, 'D': 2, 'E': 5},\n",
        "    'C': {'A': 4, 'F': 6},\n",
        "    'D': {'B': 2},\n",
        "    'E': {'B': 5, 'F': 3},\n",
        "    'F': {'C': 6, 'E': 3}\n",
        "}"
      ],
      "metadata": {
        "id": "BfxZOlBZUYxO"
      },
      "execution_count": 64,
      "outputs": []
    },
    {
      "cell_type": "code",
      "source": [
        "import heapq\n",
        "pq, start = [], \"A\"\n",
        "heapq.heappush(pq, (0, start))"
      ],
      "metadata": {
        "id": "6KBuaWd2US_t"
      },
      "execution_count": 119,
      "outputs": []
    },
    {
      "cell_type": "code",
      "source": [
        "print(pq)\n",
        "print(graph[start].items())"
      ],
      "metadata": {
        "id": "Df4RtelwU8-5",
        "outputId": "47199a2a-87b0-42b4-fe87-79b50ae20a08",
        "colab": {
          "base_uri": "https://localhost:8080/"
        }
      },
      "execution_count": 115,
      "outputs": [
        {
          "output_type": "stream",
          "name": "stdout",
          "text": [
            "[(0, 'A')]\n",
            "dict_items([('B', 1), ('C', 4)])\n"
          ]
        }
      ]
    },
    {
      "cell_type": "code",
      "source": [
        "distances = {node: float('inf') for node in graph}\n",
        "distances[start] = 0\n",
        "distances # It stores distance from `start` to target [node]"
      ],
      "metadata": {
        "id": "oFZ2zBwIU_Ap",
        "outputId": "de435d58-e571-4a33-8572-c88813366eed",
        "colab": {
          "base_uri": "https://localhost:8080/"
        }
      },
      "execution_count": 118,
      "outputs": [
        {
          "output_type": "execute_result",
          "data": {
            "text/plain": [
              "{'A': 0, 'B': inf, 'C': inf, 'D': inf, 'E': inf, 'F': inf}"
            ]
          },
          "metadata": {},
          "execution_count": 118
        }
      ]
    },
    {
      "cell_type": "code",
      "source": [
        "while pq:\n",
        "    dist_to_start, current_node = heapq.heappop(pq)\n",
        "    print(distances, current_node)\n",
        "    if dist_to_start > distances[current_node]:\n",
        "        print(\"skip\", dist_to_start, current_node)\n",
        "        continue\n",
        "    for neighbor, weight in graph[current_node].items():\n",
        "        distance = dist_to_start + weight\n",
        "        if distance < distances[neighbor]:\n",
        "            distances[neighbor] = distance\n",
        "            heapq.heappush(pq, (distance, neighbor))\n",
        "\n",
        "print(distances)"
      ],
      "metadata": {
        "id": "ukKVW2HNVI3Z",
        "outputId": "2855cef1-0887-462a-9c27-e752fb701344",
        "colab": {
          "base_uri": "https://localhost:8080/"
        }
      },
      "execution_count": 120,
      "outputs": [
        {
          "output_type": "stream",
          "name": "stdout",
          "text": [
            "{'A': 0, 'B': inf, 'C': inf, 'D': inf, 'E': inf, 'F': inf} A\n",
            "{'A': 0, 'B': 1, 'C': 4, 'D': inf, 'E': inf, 'F': inf} B\n",
            "{'A': 0, 'B': 1, 'C': 4, 'D': 3, 'E': 6, 'F': inf} D\n",
            "{'A': 0, 'B': 1, 'C': 4, 'D': 3, 'E': 6, 'F': inf} C\n",
            "{'A': 0, 'B': 1, 'C': 4, 'D': 3, 'E': 6, 'F': 10} E\n",
            "{'A': 0, 'B': 1, 'C': 4, 'D': 3, 'E': 6, 'F': 9} F\n",
            "{'A': 0, 'B': 1, 'C': 4, 'D': 3, 'E': 6, 'F': 9} F\n",
            "skip 10 F\n",
            "{'A': 0, 'B': 1, 'C': 4, 'D': 3, 'E': 6, 'F': 9}\n"
          ]
        }
      ]
    },
    {
      "cell_type": "code",
      "source": [
        "distances"
      ],
      "metadata": {
        "id": "R9ZBgNc9Xti-",
        "outputId": "c9cc3bad-0ad9-4ddd-8c9d-ac71148aaa8d",
        "colab": {
          "base_uri": "https://localhost:8080/"
        }
      },
      "execution_count": 87,
      "outputs": [
        {
          "output_type": "execute_result",
          "data": {
            "text/plain": [
              "{'A': 0, 'B': 1, 'C': 4, 'D': 3, 'E': 6, 'F': 9}"
            ]
          },
          "metadata": {},
          "execution_count": 87
        }
      ]
    },
    {
      "cell_type": "code",
      "source": [],
      "metadata": {
        "id": "RIk-wJkWVJfE",
        "outputId": "9790dbf5-5672-436a-92f7-f59f8b485020",
        "colab": {
          "base_uri": "https://localhost:8080/"
        }
      },
      "execution_count": 83,
      "outputs": [
        {
          "output_type": "execute_result",
          "data": {
            "text/plain": [
              "dict_items([('B', 1), ('C', 4)])"
            ]
          },
          "metadata": {},
          "execution_count": 83
        }
      ]
    },
    {
      "cell_type": "code",
      "source": [],
      "metadata": {
        "id": "dx2jI-RIWo9L"
      },
      "execution_count": null,
      "outputs": []
    }
  ]
}
{
  "nbformat": 4,
  "nbformat_minor": 0,
  "metadata": {
    "colab": {
      "provenance": [],
      "authorship_tag": "ABX9TyNMSol5LrxL6v0oPFy07FBc",
      "include_colab_link": true
    },
    "kernelspec": {
      "name": "python3",
      "display_name": "Python 3"
    },
    "language_info": {
      "name": "python"
    }
  },
  "cells": [
    {
      "cell_type": "markdown",
      "metadata": {
        "id": "view-in-github",
        "colab_type": "text"
      },
      "source": [
        "<a href=\"https://colab.research.google.com/github/myappcubic/leet-code-problem-set/blob/main/GraphTheory.ipynb\" target=\"_parent\"><img src=\"https://colab.research.google.com/assets/colab-badge.svg\" alt=\"Open In Colab\"/></a>"
      ]
    },
    {
      "cell_type": "markdown",
      "source": [
        "#Graph Theory"
      ],
      "metadata": {
        "id": "JnAU6EDpnCql"
      }
    },
    {
      "cell_type": "markdown",
      "source": [
        "## LCA"
      ],
      "metadata": {
        "id": "jSWYbY-YwMyI"
      }
    },
    {
      "cell_type": "markdown",
      "source": [
        "### Construct The Tree"
      ],
      "metadata": {
        "id": "N-oa1wyKxU17"
      }
    },
    {
      "cell_type": "code",
      "source": [
        "class TreeNode:\n",
        "    def __init__(self, val):\n",
        "        self.val = val\n",
        "        self.left = None\n",
        "        self.right = None"
      ],
      "metadata": {
        "id": "tEBKS4tCwOqa"
      },
      "execution_count": 8,
      "outputs": []
    },
    {
      "cell_type": "code",
      "source": [
        "def construct_complex_tree():\n",
        "    # Create nodes\n",
        "    root = TreeNode(1)\n",
        "    root.left = TreeNode(2)\n",
        "    root.right = TreeNode(3)\n",
        "    root.left.left = TreeNode(4)\n",
        "    root.left.right = TreeNode(5)\n",
        "    root.right.left = TreeNode(6)\n",
        "    root.right.right = TreeNode(7)\n",
        "    root.left.left.left = TreeNode(8)\n",
        "    root.left.right.left = TreeNode(9)\n",
        "    root.left.right.right = TreeNode(10)\n",
        "    root.right.right.left = TreeNode(11)\n",
        "    root.right.right.right = TreeNode(12)\n",
        "\n",
        "    return root\n",
        "\n",
        "# Construct the tree\n",
        "tree = construct_complex_tree()"
      ],
      "metadata": {
        "id": "C66cJpPZwQhu"
      },
      "execution_count": 9,
      "outputs": []
    },
    {
      "cell_type": "markdown",
      "source": [
        "\n",
        "\n",
        "```\n",
        "        1\n",
        "      /   \\\n",
        "     2     3\n",
        "    / \\   / \\\n",
        "   4   5 6   7\n",
        "  /   / \\   / \\\n",
        " 8   9  10 11 12\n",
        "```\n",
        "\n"
      ],
      "metadata": {
        "id": "YjIA1w4HKYgt"
      }
    },
    {
      "cell_type": "markdown",
      "source": [
        "### Simple LCA"
      ],
      "metadata": {
        "id": "Wfxmgengw9AC"
      }
    },
    {
      "cell_type": "code",
      "source": [
        "def lca_simple(root, p, q):\n",
        "    if not root or root.val == p or root.val ==q:\n",
        "        return root\n",
        "\n",
        "    left = lca_simple(root.left, p, q)\n",
        "    right = lca_simple(root.right, p, q)\n",
        "\n",
        "    if left and right:\n",
        "        return root\n",
        "    return left if left else right\n",
        "\n"
      ],
      "metadata": {
        "id": "Uy-gBbjmxcIi"
      },
      "execution_count": 3,
      "outputs": []
    },
    {
      "cell_type": "code",
      "source": [],
      "metadata": {
        "id": "na-fxzw2-c_X"
      },
      "execution_count": null,
      "outputs": []
    },
    {
      "cell_type": "code",
      "source": [
        "node = lca_simple(tree, 9, 10)"
      ],
      "metadata": {
        "id": "RBGIi0mFy5MA"
      },
      "execution_count": 6,
      "outputs": []
    },
    {
      "cell_type": "code",
      "source": [
        "node.val"
      ],
      "metadata": {
        "colab": {
          "base_uri": "https://localhost:8080/"
        },
        "id": "jJbH9_nqy5Z1",
        "outputId": "16404eef-9772-43b5-b33d-58ae0bc5ab6a"
      },
      "execution_count": 7,
      "outputs": [
        {
          "output_type": "execute_result",
          "data": {
            "text/plain": [
              "5"
            ]
          },
          "metadata": {},
          "execution_count": 7
        }
      ]
    },
    {
      "cell_type": "code",
      "source": [],
      "metadata": {
        "id": "2FXEwpWnzHoY"
      },
      "execution_count": null,
      "outputs": []
    }
  ]
}
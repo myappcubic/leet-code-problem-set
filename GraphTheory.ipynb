{
  "nbformat": 4,
  "nbformat_minor": 0,
  "metadata": {
    "colab": {
      "provenance": [],
      "authorship_tag": "ABX9TyN1V0MaE9kGjSe5n9qVa37k",
      "include_colab_link": true
    },
    "kernelspec": {
      "name": "python3",
      "display_name": "Python 3"
    },
    "language_info": {
      "name": "python"
    }
  },
  "cells": [
    {
      "cell_type": "markdown",
      "metadata": {
        "id": "view-in-github",
        "colab_type": "text"
      },
      "source": [
        "<a href=\"https://colab.research.google.com/github/myappcubic/leet-code-problem-set/blob/main/GraphTheory.ipynb\" target=\"_parent\"><img src=\"https://colab.research.google.com/assets/colab-badge.svg\" alt=\"Open In Colab\"/></a>"
      ]
    },
    {
      "cell_type": "markdown",
      "source": [
        "#Graph Theory"
      ],
      "metadata": {
        "id": "JnAU6EDpnCql"
      }
    },
    {
      "cell_type": "markdown",
      "source": [
        "## LCA"
      ],
      "metadata": {
        "id": "jSWYbY-YwMyI"
      }
    },
    {
      "cell_type": "markdown",
      "source": [
        "### Construct The Tree"
      ],
      "metadata": {
        "id": "N-oa1wyKxU17"
      }
    },
    {
      "cell_type": "code",
      "source": [
        "class TreeNode:\n",
        "    def __init__(self, val):\n",
        "        self.val = val\n",
        "        self.left = None\n",
        "        self.right = None"
      ],
      "metadata": {
        "id": "tEBKS4tCwOqa"
      },
      "execution_count": null,
      "outputs": []
    },
    {
      "cell_type": "code",
      "source": [
        "def construct_complex_tree():\n",
        "    # Create nodes\n",
        "    root = TreeNode(1)\n",
        "    root.left = TreeNode(2)\n",
        "    root.right = TreeNode(3)\n",
        "    root.left.left = TreeNode(4)\n",
        "    root.left.right = TreeNode(5)\n",
        "    root.right.left = TreeNode(6)\n",
        "    root.right.right = TreeNode(7)\n",
        "    root.left.left.left = TreeNode(8)\n",
        "    root.left.right.left = TreeNode(9)\n",
        "    root.left.right.right = TreeNode(10)\n",
        "    root.right.right.left = TreeNode(11)\n",
        "    root.right.right.right = TreeNode(12)\n",
        "\n",
        "    return root\n",
        "\n",
        "# Construct the tree\n",
        "tree = construct_complex_tree()"
      ],
      "metadata": {
        "id": "C66cJpPZwQhu"
      },
      "execution_count": null,
      "outputs": []
    },
    {
      "cell_type": "markdown",
      "source": [
        "\n",
        "\n",
        "```\n",
        "        1\n",
        "      /   \\\n",
        "     2     3\n",
        "    / \\   / \\\n",
        "   4   5 6   7\n",
        "  /   / \\   / \\\n",
        " 8   9  10 11 12\n",
        "```\n",
        "\n"
      ],
      "metadata": {
        "id": "YjIA1w4HKYgt"
      }
    },
    {
      "cell_type": "markdown",
      "source": [
        "### Simple LCA"
      ],
      "metadata": {
        "id": "Wfxmgengw9AC"
      }
    },
    {
      "cell_type": "code",
      "source": [
        "def lca_simple(root, p, q):\n",
        "    if not root or root.val == p or root.val ==q:\n",
        "        return root\n",
        "\n",
        "    left = lca_simple(root.left, p, q)\n",
        "    right = lca_simple(root.right, p, q)\n",
        "\n",
        "    if left and right:\n",
        "        return root\n",
        "    return left if left else right\n"
      ],
      "metadata": {
        "id": "Uy-gBbjmxcIi"
      },
      "execution_count": null,
      "outputs": []
    },
    {
      "cell_type": "markdown",
      "source": [
        "### Give a node value, return the path from the tree root"
      ],
      "metadata": {
        "id": "na-fxzw2-c_X"
      }
    },
    {
      "cell_type": "code",
      "source": [
        "def find_path(root, node, path):\n",
        "    if not root:\n",
        "        return False\n",
        "    path.append(root.val)\n",
        "    if root.val == node:\n",
        "        return True\n",
        "    if (root.left and find_path(root.left, node, path)) or \\\n",
        "     (root.right and find_path(root.right, node, path)):\n",
        "        return True\n",
        "    path.pop()\n",
        "    return False"
      ],
      "metadata": {
        "id": "MR_WE2sdb-jY"
      },
      "execution_count": null,
      "outputs": []
    },
    {
      "cell_type": "code",
      "source": [
        "path = []\n",
        "find_path(tree, 12, path)"
      ],
      "metadata": {
        "colab": {
          "base_uri": "https://localhost:8080/"
        },
        "id": "xQn0EWC5cnqp",
        "outputId": "bd1cccc8-fc66-4714-8aac-f6d07fd9a923"
      },
      "execution_count": null,
      "outputs": [
        {
          "output_type": "execute_result",
          "data": {
            "text/plain": [
              "True"
            ]
          },
          "metadata": {},
          "execution_count": 5
        }
      ]
    },
    {
      "cell_type": "code",
      "source": [
        "path"
      ],
      "metadata": {
        "colab": {
          "base_uri": "https://localhost:8080/"
        },
        "id": "x9gqfnHkdAjb",
        "outputId": "ece5cfb8-7582-4291-9401-1cfdf50348b3"
      },
      "execution_count": null,
      "outputs": [
        {
          "output_type": "execute_result",
          "data": {
            "text/plain": [
              "[1, 3, 7, 12]"
            ]
          },
          "metadata": {},
          "execution_count": 7
        }
      ]
    },
    {
      "cell_type": "code",
      "source": [
        "graph = {\n",
        "    'A': ['B', 'C', 'D', 'O'],\n",
        "    'B': ['A', 'E', 'F'],\n",
        "    'C': ['A', 'G'],\n",
        "    'D': ['A', 'H', 'I'],\n",
        "    'E': ['B'],\n",
        "    'F': ['B', 'J'],\n",
        "    'G': ['C', 'K'],\n",
        "    'H': ['D'],\n",
        "    'I': ['D'],\n",
        "    'J': ['F', 'L'],\n",
        "    'K': ['G', 'M'],\n",
        "    'L': ['J', 'N'],\n",
        "    'M': ['K'],\n",
        "    'N': ['L'],\n",
        "    'O': ['A']\n",
        "}"
      ],
      "metadata": {
        "id": "RBGIi0mFy5MA"
      },
      "execution_count": 56,
      "outputs": []
    },
    {
      "cell_type": "code",
      "source": [
        "from collections import deque, defaultdict\n",
        "def bfs_iter(graph, start):\n",
        "    distances = {node: float(\"inf\") for node in graph}\n",
        "    distances[start] = 0\n",
        "    queue = deque([start])\n",
        "\n",
        "    while queue:\n",
        "        node = queue.popleft()\n",
        "        for neighbor in graph[node]:\n",
        "            if distances[neighbor] == float('inf'):\n",
        "                distances[neighbor] = distances[node] + 1\n",
        "                queue.append(neighbor)\n",
        "    return distances\n",
        "\n",
        "result = bfs_iter(graph, 'A')"
      ],
      "metadata": {
        "id": "jJbH9_nqy5Z1"
      },
      "execution_count": null,
      "outputs": []
    },
    {
      "cell_type": "code",
      "source": [
        "result"
      ],
      "metadata": {
        "id": "2FXEwpWnzHoY",
        "colab": {
          "base_uri": "https://localhost:8080/"
        },
        "outputId": "cfe2707b-d121-4127-cead-dec2f92e4eda"
      },
      "execution_count": null,
      "outputs": [
        {
          "output_type": "execute_result",
          "data": {
            "text/plain": [
              "{'A': 0,\n",
              " 'B': 1,\n",
              " 'C': 1,\n",
              " 'D': 1,\n",
              " 'E': 2,\n",
              " 'F': 2,\n",
              " 'G': 2,\n",
              " 'H': 2,\n",
              " 'I': 2,\n",
              " 'J': 3,\n",
              " 'K': 3,\n",
              " 'L': 4,\n",
              " 'M': 4,\n",
              " 'N': 5,\n",
              " 'O': 1}"
            ]
          },
          "metadata": {},
          "execution_count": 24
        }
      ]
    },
    {
      "cell_type": "code",
      "source": [
        "graph = {\n",
        "    0: [1, 2],\n",
        "    1: [2],\n",
        "    2: [0, 3],\n",
        "    3: [3]\n",
        "}"
      ],
      "metadata": {
        "id": "QVRe2TXONGmg"
      },
      "execution_count": null,
      "outputs": []
    },
    {
      "cell_type": "code",
      "source": [
        "def has_cycle(graph):\n",
        "    visited = set()\n",
        "    path = set()\n",
        "\n",
        "    def dfs(node):\n",
        "        if node in path:\n",
        "            return True\n",
        "        if node in visited:\n",
        "            return\n",
        "\n",
        "        path.add(node)\n",
        "        visited.add(node)\n",
        "\n",
        "        for neighbor in graph.get(node, []):\n",
        "            if dfs(neighbor):\n",
        "                return True\n",
        "\n",
        "        path.remove(node)\n",
        "        return\n",
        "\n",
        "    for node in graph:\n",
        "        if dfs(node):\n",
        "            print(path)\n",
        "            return True\n",
        "    return False\n",
        "\n",
        "print(has_cycle(graph))\n",
        "\n"
      ],
      "metadata": {
        "id": "W4q54I5kRJhD",
        "outputId": "b08713ed-7603-4f07-815a-ec7b78c6729f",
        "colab": {
          "base_uri": "https://localhost:8080/"
        }
      },
      "execution_count": null,
      "outputs": [
        {
          "output_type": "stream",
          "name": "stdout",
          "text": [
            "{0, 1, 2}\n",
            "True\n"
          ]
        }
      ]
    },
    {
      "cell_type": "markdown",
      "source": [
        "Topological Sort"
      ],
      "metadata": {
        "id": "He3UStmosQ-e"
      }
    },
    {
      "cell_type": "code",
      "source": [
        "def topological_sort_recursive(graph):\n",
        "    def dfs(node):\n",
        "        visited.add(node)\n",
        "        for neighbor in graph[node]:\n",
        "            if neighbor not in visited:\n",
        "                dfs(neighbor)\n",
        "        stack.append(node)\n",
        "\n",
        "    visited = set()\n",
        "    stack = []\n",
        "\n",
        "    for node in graph:\n",
        "        if node not in visited:\n",
        "            dfs(node)\n",
        "\n",
        "    stack.reverse()  # Since we want to return the elements in reverse order of their finishing times\n",
        "    return stack\n",
        "\n",
        "# Example graph\n",
        "graph = {\n",
        "    'A': ['C', 'D'],\n",
        "    'B': ['D', 'E'],\n",
        "    'C': ['F'],\n",
        "    'D': ['F'],\n",
        "    'E': ['G'],\n",
        "    'F': ['H'],\n",
        "    'G': ['H'],\n",
        "    'H': []\n",
        "}\n",
        "\n",
        "print(topological_sort_recursive(graph))\n"
      ],
      "metadata": {
        "id": "X-iPeLh4pMul",
        "outputId": "3c9431b0-91a0-45b5-80b7-2158c26e302d",
        "colab": {
          "base_uri": "https://localhost:8080/"
        }
      },
      "execution_count": null,
      "outputs": [
        {
          "output_type": "stream",
          "name": "stdout",
          "text": [
            "['B', 'E', 'G', 'A', 'D', 'C', 'F', 'H']\n"
          ]
        }
      ]
    },
    {
      "cell_type": "code",
      "source": [
        "from collections import deque, defaultdict\n",
        "\n",
        "def topological_sort_iterative(graph):\n",
        "    in_degree = defaultdict(int)\n",
        "    for node in graph:\n",
        "        for neighbor in graph[node]:\n",
        "            in_degree[neighbor] += 1\n",
        "\n",
        "    # Queue for nodes with no incoming edges\n",
        "    queue = deque([node for node in graph if in_degree[node] == 0])\n",
        "    top_order = []\n",
        "\n",
        "    while queue:\n",
        "        current_node = queue.popleft()\n",
        "        top_order.append(current_node)\n",
        "\n",
        "        for neighbor in graph[current_node]:\n",
        "            in_degree[neighbor] -= 1\n",
        "            if in_degree[neighbor] == 0:\n",
        "                queue.append(neighbor)\n",
        "\n",
        "    if len(top_order) == len(graph):\n",
        "        return top_order\n",
        "    else:\n",
        "        return []  # Graph has a cycle\n",
        "\n",
        "# Example graph\n",
        "graph = {\n",
        "    'A': ['C', 'D'],\n",
        "    'B': ['D', 'E'],\n",
        "    'C': ['F'],\n",
        "    'D': ['F'],\n",
        "    'E': ['G'],\n",
        "    'F': ['H'],\n",
        "    'G': ['H'],\n",
        "    'H': []\n",
        "}\n",
        "\n",
        "print(topological_sort_iterative(graph))\n"
      ],
      "metadata": {
        "id": "IOFir7DntvhY",
        "outputId": "b0903f2c-c3f2-4477-ff65-30eec9d82fde",
        "colab": {
          "base_uri": "https://localhost:8080/"
        }
      },
      "execution_count": null,
      "outputs": [
        {
          "output_type": "stream",
          "name": "stdout",
          "text": [
            "['A', 'B', 'C', 'D', 'E', 'F', 'G', 'H']\n"
          ]
        }
      ]
    },
    {
      "cell_type": "code",
      "source": [
        "from collections import defaultdict\n",
        "def find_indegree(graph):\n",
        "    in_degree = defaultdict(int)\n",
        "    for node in graph:\n",
        "        for neighbor in graph[node]:\n",
        "            in_degree[neighbor] += 1\n",
        "    print(in_degree)\n",
        "    return in_degree\n",
        "in_degree = find_indegree(graph)"
      ],
      "metadata": {
        "id": "MSLWNPy9tv6H",
        "outputId": "bfa079cd-068e-4b3e-d929-513708e5af3a",
        "colab": {
          "base_uri": "https://localhost:8080/"
        }
      },
      "execution_count": null,
      "outputs": [
        {
          "output_type": "stream",
          "name": "stdout",
          "text": [
            "defaultdict(<class 'int'>, {'C': 1, 'D': 2, 'E': 1, 'F': 2, 'G': 1, 'H': 2})\n"
          ]
        }
      ]
    },
    {
      "cell_type": "code",
      "source": [
        "start_of_deque = deque([node for node in graph if in_degree[node]==0])"
      ],
      "metadata": {
        "id": "aP-aaTuUwA2_"
      },
      "execution_count": null,
      "outputs": []
    },
    {
      "cell_type": "code",
      "source": [
        "start_of_deque"
      ],
      "metadata": {
        "id": "wMluZhoIyTD6",
        "outputId": "c0275011-727e-440d-f82b-94efbf27ac32",
        "colab": {
          "base_uri": "https://localhost:8080/"
        }
      },
      "execution_count": null,
      "outputs": [
        {
          "output_type": "execute_result",
          "data": {
            "text/plain": [
              "deque(['A', 'B'])"
            ]
          },
          "metadata": {},
          "execution_count": 37
        }
      ]
    },
    {
      "cell_type": "code",
      "source": [
        "def topological_sort_iterative(graph, queue, in_degree):\n",
        "    result = []\n",
        "    while queue:\n",
        "        current_node = queue.popleft()\n",
        "        result.append(current_node)\n",
        "\n",
        "        for neighbor in graph[current_node]:\n",
        "            in_degree[neighbor] -= 1\n",
        "            if in_degree[neighbor] == 0:\n",
        "                queue.append(neighbor)\n",
        "    print(result)\n",
        "\n"
      ],
      "metadata": {
        "id": "7rw5qB99wPZQ"
      },
      "execution_count": null,
      "outputs": []
    },
    {
      "cell_type": "code",
      "source": [
        "topological_sort_iterative(graph,start_of_deque,in_degree )"
      ],
      "metadata": {
        "id": "p3Gc5ttAwV-r",
        "outputId": "746e0484-71ab-414e-9efe-0ac10741357e",
        "colab": {
          "base_uri": "https://localhost:8080/"
        }
      },
      "execution_count": null,
      "outputs": [
        {
          "output_type": "stream",
          "name": "stdout",
          "text": [
            "['A', 'B', 'C', 'D', 'E', 'F', 'G', 'H']\n"
          ]
        }
      ]
    },
    {
      "cell_type": "markdown",
      "source": [],
      "metadata": {
        "id": "kBofrc1d4Hb2"
      }
    },
    {
      "cell_type": "code",
      "source": [
        "def topological_sort_recursive(graph):\n",
        "    def dfs(node):\n",
        "        print(visited)\n",
        "        if node in recursion_stack:\n",
        "            raise ValueError(\"Graph has a cycle\")\n",
        "        if node not in visited:\n",
        "            recursion_stack.add(node)\n",
        "            for neighbor in graph[node]:\n",
        "                dfs(neighbor)\n",
        "            recursion_stack.remove(node)\n",
        "            visited.add(node)\n",
        "            stack.append(node)\n",
        "\n",
        "    visited = set()\n",
        "    recursion_stack = set()\n",
        "    stack = []\n",
        "\n",
        "    for node in graph:\n",
        "        if node not in visited:\n",
        "            dfs(node)\n",
        "\n",
        "    stack.reverse()  # Since we want to return the elements in reverse order of their finishing times\n",
        "    return stack\n",
        "\n",
        "# Example graph (without a cycle)\n",
        "graph = {\n",
        "    'A': ['C', 'D'],\n",
        "    'B': ['D', 'E'],\n",
        "    'C': ['F'],\n",
        "    'D': ['F'],\n",
        "    'E': ['G'],\n",
        "    'F': ['H'],\n",
        "    'G': ['H'],\n",
        "    'H': []\n",
        "}\n",
        "\n",
        "try:\n",
        "    print(topological_sort_recursive(graph))\n",
        "except ValueError as e:\n",
        "    print(e)\n",
        "\n",
        "# Example graph (with a cycle)\n",
        "graph_with_cycle = {\n",
        "    'A': ['C', 'D'],\n",
        "    'B': ['D', 'E'],\n",
        "    'C': ['F'],\n",
        "    'D': ['F'],\n",
        "    'E': ['G'],\n",
        "    'F': ['H'],\n",
        "    'G': ['H'],\n",
        "    'H': ['A']  # Introduces a cycle\n",
        "}\n",
        "\n",
        "try:\n",
        "    print(topological_sort_recursive(graph_with_cycle))\n",
        "except ValueError as e:\n",
        "    print(e)\n"
      ],
      "metadata": {
        "id": "AvNbYfgX1vcb",
        "outputId": "2d114d37-40a1-4620-d903-d94e90376542",
        "colab": {
          "base_uri": "https://localhost:8080/"
        }
      },
      "execution_count": null,
      "outputs": [
        {
          "output_type": "stream",
          "name": "stdout",
          "text": [
            "set()\n",
            "set()\n",
            "set()\n",
            "set()\n",
            "{'C', 'H', 'F'}\n",
            "{'C', 'H', 'F'}\n",
            "{'F', 'H', 'D', 'C', 'A'}\n",
            "{'F', 'H', 'D', 'C', 'A'}\n",
            "{'F', 'H', 'D', 'C', 'A'}\n",
            "{'F', 'H', 'D', 'C', 'A'}\n",
            "{'F', 'H', 'D', 'C', 'A'}\n",
            "['B', 'E', 'G', 'A', 'D', 'C', 'F', 'H']\n",
            "set()\n",
            "set()\n",
            "set()\n",
            "set()\n",
            "set()\n",
            "Graph has a cycle\n"
          ]
        }
      ]
    },
    {
      "cell_type": "code",
      "source": [
        "from collections import defaultdict\n",
        "\n",
        "def topological_sort_recursive(graph):\n",
        "    def dfs(node):\n",
        "        # Mark the current node as visited and add to recursion stack\n",
        "        visited.add(node)\n",
        "        recursion_stack.add(node)\n",
        "\n",
        "        # Recur for all the vertices adjacent to this vertex\n",
        "        for neighbor in graph[node]:\n",
        "            if neighbor in recursion_stack:\n",
        "                # Cycle detected\n",
        "                return False\n",
        "            if neighbor not in visited:\n",
        "                if not dfs(neighbor):\n",
        "                    return False\n",
        "\n",
        "        # Remove the vertex from recursion stack\n",
        "        recursion_stack.remove(node)\n",
        "        # Push current vertex to stack which stores result\n",
        "        stack.append(node)\n",
        "        return True\n",
        "\n",
        "    visited = set()\n",
        "    recursion_stack = set()\n",
        "    stack = []\n",
        "\n",
        "    # Call the recursive helper function to store Topological Sort\n",
        "    # starting from all vertices one by one\n",
        "    for node in graph:\n",
        "        if node not in visited:\n",
        "            if not dfs(node):\n",
        "                return None  # Cycle detected, return None\n",
        "\n",
        "    # Return the stack in reverse order\n",
        "    return stack[::-1]\n",
        "\n",
        "# Example usage\n",
        "graph = {\n",
        "    'A': ['B', 'C'],\n",
        "    'B': ['D'],\n",
        "    'C': ['D'],\n",
        "    'D': ['E'],\n",
        "    'E': []\n",
        "}\n",
        "\n",
        "print(topological_sort_recursive(graph))\n",
        "\n",
        "# Example with a cycle\n",
        "graph_with_cycle = {\n",
        "    'A': ['B', 'C'],\n",
        "    'B': ['D'],\n",
        "    'C': ['D'],\n",
        "    'D': ['E'],\n",
        "    'E': ['B']  # This creates a cycle\n",
        "}\n",
        "\n",
        "print(topological_sort_recursive(graph_with_cycle))"
      ],
      "metadata": {
        "id": "GxZKptnC1v9I",
        "outputId": "8863e802-e47e-473e-b82b-65f541e0895c",
        "colab": {
          "base_uri": "https://localhost:8080/"
        }
      },
      "execution_count": null,
      "outputs": [
        {
          "output_type": "stream",
          "name": "stdout",
          "text": [
            "['A', 'C', 'B', 'D', 'E']\n",
            "None\n"
          ]
        }
      ]
    },
    {
      "cell_type": "markdown",
      "source": [
        "## Iterative Methods"
      ],
      "metadata": {
        "id": "wsrfEdnLr6-g"
      }
    },
    {
      "cell_type": "markdown",
      "source": [
        "### Find the center"
      ],
      "metadata": {
        "id": "a-jS5Xg3r-q-"
      }
    },
    {
      "cell_type": "code",
      "source": [
        "graph = {\n",
        "    0: [1, 2],\n",
        "    1: [2],\n",
        "    2: [3],\n",
        "    3: [4],\n",
        "    4:[0]\n",
        "}"
      ],
      "metadata": {
        "id": "bm9Ylca2sA0t"
      },
      "execution_count": 28,
      "outputs": []
    },
    {
      "cell_type": "markdown",
      "source": [
        "### Detect a cycle"
      ],
      "metadata": {
        "id": "rQQp9OtKsDpS"
      }
    },
    {
      "cell_type": "code",
      "source": [
        "def has_cycle(graph):\n",
        "    visited = set()\n",
        "    path = set()\n",
        "    def dfs(node):\n",
        "        visited.add(node)\n",
        "        path.add(node)\n",
        "        for neighbor in graph[node]:\n",
        "            if neighbor not in visited:\n",
        "                if dfs(neighbor):\n",
        "                    return True\n",
        "            elif neighbor in path:\n",
        "                return True\n",
        "        path.remove(node)\n",
        "        return False\n",
        "    for node in graph:\n",
        "        print(node, visited)\n",
        "        if node not in visited:\n",
        "\n",
        "            if dfs(node):\n",
        "                print(path)\n",
        "                return True\n",
        "    return False\n"
      ],
      "metadata": {
        "id": "CTmq0VlPsGF3"
      },
      "execution_count": 42,
      "outputs": []
    },
    {
      "cell_type": "code",
      "source": [
        "def detect_cycle(graph):\n",
        "    visited = set()\n",
        "    stack = []\n",
        "\n",
        "    for start_node in graph:\n",
        "        if start_node not in visited:\n",
        "            stack.append((start_node, []))\n",
        "\n",
        "            while stack:\n",
        "                node, path = stack.pop()\n",
        "\n",
        "                if node in path:\n",
        "                    cycle_start = path.index(node)\n",
        "                    return path[cycle_start:] + [node]\n",
        "\n",
        "                if node not in visited:\n",
        "                    visited.add(node)\n",
        "                    for neighbor in graph[node]:\n",
        "                        stack.append((neighbor, path + [node]))\n",
        "\n",
        "    return None\n",
        "\n",
        "# Example usage:\n",
        "graph = {\n",
        "    'A': ['B', 'C'],\n",
        "    'B': ['D'],\n",
        "    'C': ['E'],\n",
        "    'D': ['C', 'E'],\n",
        "    'E': ['A']\n",
        "}\n",
        "\n",
        "cycle_path = detect_cycle(graph)\n",
        "print(\"Cycle detected:\" if cycle_path else \"No cycle detected\")\n",
        "if cycle_path:\n",
        "    print(\"Cycle path:\", cycle_path)\n"
      ],
      "metadata": {
        "id": "sOLS31wZ8rqY",
        "outputId": "26296993-0243-4678-ad5d-25d45ec33897",
        "colab": {
          "base_uri": "https://localhost:8080/"
        }
      },
      "execution_count": 45,
      "outputs": [
        {
          "output_type": "stream",
          "name": "stdout",
          "text": [
            "Cycle detected:\n",
            "Cycle path: ['A', 'C', 'E', 'A']\n"
          ]
        }
      ]
    },
    {
      "cell_type": "code",
      "source": [
        "print(has_cycle(graph))"
      ],
      "metadata": {
        "id": "DbKcBFyxw8HU",
        "outputId": "8a13578f-43f5-4fe4-b5f6-cd016d739727",
        "colab": {
          "base_uri": "https://localhost:8080/"
        }
      },
      "execution_count": 43,
      "outputs": [
        {
          "output_type": "stream",
          "name": "stdout",
          "text": [
            "A set()\n",
            "{'A', 'B', 'D', 'E', 'C'}\n",
            "True\n"
          ]
        }
      ]
    },
    {
      "cell_type": "code",
      "source": [
        "def detect_cycle(graph):\n",
        "    def dfs(node, path):\n",
        "        if node in path:\n",
        "            cycle_start = path.index(node)\n",
        "            return path[cycle_start:] + [node]\n",
        "\n",
        "        path.append(node)\n",
        "\n",
        "        for neighbor in graph[node]:\n",
        "            if neighbor not in visited:\n",
        "                result = dfs(neighbor, path)\n",
        "                if result:\n",
        "                    return result\n",
        "\n",
        "        path.pop()\n",
        "        visited.add(node)\n",
        "        return None\n",
        "\n",
        "    visited = set()\n",
        "\n",
        "    for start_node in graph:\n",
        "        if start_node not in visited:\n",
        "            result = dfs(start_node, [])\n",
        "            if result:\n",
        "                return result\n",
        "\n",
        "    return None\n",
        "\n",
        "# Example usage:\n",
        "graph = {\n",
        "    'A': ['B', 'C'],\n",
        "    'B': ['D'],\n",
        "    'C': ['E'],\n",
        "    'D': ['C', 'E'],\n",
        "    'E': ['A']\n",
        "}\n",
        "\n",
        "cycle_path = detect_cycle(graph)\n",
        "print(\"Cycle detected:\" if cycle_path else \"No cycle detected\")\n",
        "if cycle_path:\n",
        "    print(\"Cycle path:\", cycle_path)\n"
      ],
      "metadata": {
        "id": "9D6UiAx6clr4",
        "outputId": "7114329e-1511-4c8a-c6b5-6dbd6bb39d34",
        "colab": {
          "base_uri": "https://localhost:8080/"
        }
      },
      "execution_count": 44,
      "outputs": [
        {
          "output_type": "stream",
          "name": "stdout",
          "text": [
            "Cycle detected:\n",
            "Cycle path: ['A', 'B', 'D', 'C', 'E', 'A']\n"
          ]
        }
      ]
    },
    {
      "cell_type": "code",
      "source": [
        "from collections import deque, defaultdict\n",
        "\n",
        "def bfs(graph, start):\n",
        "    distances = {node: float('inf') for node in graph}\n",
        "    distances[start] = 0\n",
        "    queue = deque([start])\n",
        "\n",
        "    while queue:\n",
        "        node = queue.popleft()\n",
        "        for neighbor in graph[node]:\n",
        "            if distances[neighbor] == float('inf'):\n",
        "                distances[neighbor] = distances[node] + 1\n",
        "                queue.append(neighbor)\n",
        "\n",
        "    return distances\n",
        "\n",
        "def find_center(graph):\n",
        "    eccentricities = {}\n",
        "    for node in graph:\n",
        "        distances = bfs(graph, node)\n",
        "        eccentricities[node] = max(distances.values())\n",
        "\n",
        "    min_eccentricity = min(eccentricities.values())\n",
        "    center_nodes = [node for node, ecc in eccentricities.items() if ecc == min_eccentricity]\n",
        "\n",
        "    return center_nodes\n",
        "\n",
        "# Example usage:\n",
        "graph = {\n",
        "    'A': ['B', 'C', 'D', 'O'],\n",
        "    'B': ['A', 'E', 'F'],\n",
        "    'C': ['A', 'G'],\n",
        "    'D': ['A', 'H', 'I'],\n",
        "    'E': ['B'],\n",
        "    'F': ['B', 'J'],\n",
        "    'G': ['C', 'K'],\n",
        "    'H': ['D'],\n",
        "    'I': ['D'],\n",
        "    'J': ['F', 'L'],\n",
        "    'K': ['G', 'M'],\n",
        "    'L': ['J', 'N'],\n",
        "    'M': ['K'],\n",
        "    'N': ['L'],\n",
        "    'O': ['A']\n",
        "}\n",
        "center_nodes = find_center(graph)\n",
        "print(\"Center node(s):\", center_nodes)\n"
      ],
      "metadata": {
        "id": "DTHAgJW4pBsr",
        "outputId": "f1b9878e-2e71-47eb-aeb0-e7621dfa6dd4",
        "colab": {
          "base_uri": "https://localhost:8080/"
        }
      },
      "execution_count": 38,
      "outputs": [
        {
          "output_type": "stream",
          "name": "stdout",
          "text": [
            "Center node(s): ['A', 'B']\n"
          ]
        }
      ]
    },
    {
      "cell_type": "code",
      "source": [
        "distances = {node:float('inf') for node in graph}\n",
        "distances"
      ],
      "metadata": {
        "id": "NZUm27UPrijf",
        "outputId": "db8664f0-9d55-4852-ddea-ade4083f96ae",
        "colab": {
          "base_uri": "https://localhost:8080/"
        }
      },
      "execution_count": 40,
      "outputs": [
        {
          "output_type": "execute_result",
          "data": {
            "text/plain": [
              "{'A': inf,\n",
              " 'B': inf,\n",
              " 'C': inf,\n",
              " 'D': inf,\n",
              " 'E': inf,\n",
              " 'F': inf,\n",
              " 'G': inf,\n",
              " 'H': inf,\n",
              " 'I': inf,\n",
              " 'J': inf,\n",
              " 'K': inf,\n",
              " 'L': inf,\n",
              " 'M': inf,\n",
              " 'N': inf,\n",
              " 'O': inf}"
            ]
          },
          "metadata": {},
          "execution_count": 40
        }
      ]
    },
    {
      "cell_type": "code",
      "source": [
        "def bfs(graph, start):\n",
        "    distances = {node:float('inf') for node in graph}\n",
        "    distances[start] = 0\n",
        "    queue = deque([start])\n",
        "    while queue:\n",
        "        node = queue.popleft()\n",
        "        for neighbor in graph[node]:\n",
        "            if distances[neighbor] == float('inf'):\n",
        "                distances[neighbor] = distances[node] + 1\n",
        "                queue.append(neighbor)\n",
        "\n",
        "    return distances\n",
        "print(bfs(graph, 'H'))"
      ],
      "metadata": {
        "id": "8w4fkEgGragt",
        "outputId": "482b9171-fa03-4d14-e36c-f4f1387f52df",
        "colab": {
          "base_uri": "https://localhost:8080/"
        }
      },
      "execution_count": 46,
      "outputs": [
        {
          "output_type": "stream",
          "name": "stdout",
          "text": [
            "{'A': 2, 'B': 3, 'C': 3, 'D': 1, 'E': 4, 'F': 4, 'G': 4, 'H': 0, 'I': 2, 'J': 5, 'K': 5, 'L': 6, 'M': 6, 'N': 7, 'O': 3}\n"
          ]
        }
      ]
    },
    {
      "cell_type": "code",
      "source": [
        "eccentricities = {}\n",
        "for node in graph:\n",
        "    distances = bfs(graph, node)\n",
        "    eccentricities[node] = max(distances.values())"
      ],
      "metadata": {
        "id": "VTeswOZHwBuQ"
      },
      "execution_count": 44,
      "outputs": []
    },
    {
      "cell_type": "code",
      "source": [
        "eccentricities"
      ],
      "metadata": {
        "id": "2yjZfjy9wEmE",
        "outputId": "64c31048-696c-40f0-f701-d441eb89d47c",
        "colab": {
          "base_uri": "https://localhost:8080/"
        }
      },
      "execution_count": 45,
      "outputs": [
        {
          "output_type": "execute_result",
          "data": {
            "text/plain": [
              "{'A': 5,\n",
              " 'B': 5,\n",
              " 'C': 6,\n",
              " 'D': 6,\n",
              " 'E': 6,\n",
              " 'F': 6,\n",
              " 'G': 7,\n",
              " 'H': 7,\n",
              " 'I': 7,\n",
              " 'J': 7,\n",
              " 'K': 8,\n",
              " 'L': 8,\n",
              " 'M': 9,\n",
              " 'N': 9,\n",
              " 'O': 6}"
            ]
          },
          "metadata": {},
          "execution_count": 45
        }
      ]
    },
    {
      "cell_type": "markdown",
      "source": [
        "### Topological Sort\n",
        "- Use `in_degree` dict (`in_degree[node]`) to describe how many other nodes back-connects to a given node\n",
        "- Start from nodes with `in_drgree = 0`\n",
        "- When going through nodes with `in_drgree = 0`, visit its `neighbor`, therefore can safely do `in_degree - 1` because the node is already visited\n",
        "- Whenever there is a in_degree = 0 during the process append to the `queue`"
      ],
      "metadata": {
        "id": "1DJ8OHhZlM7Y"
      }
    },
    {
      "cell_type": "code",
      "source": [
        "graph = {\n",
        "    'A': ['C'],\n",
        "    'B': ['C', 'D'],\n",
        "    'C': ['E'],\n",
        "    'D': ['F'],\n",
        "    'E': ['H'],\n",
        "    'F': ['G'],\n",
        "    'G': [],\n",
        "    'H': []\n",
        "}"
      ],
      "metadata": {
        "id": "lHHIbYb5yAkX"
      },
      "execution_count": 60,
      "outputs": []
    },
    {
      "cell_type": "code",
      "source": [
        "from collections import deque, defaultdict\n",
        "in_degree = defaultdict(int)\n",
        "for node in graph:\n",
        "    for neighbor in graph[node]:\n",
        "        in_degree[neighbor] += 1\n",
        "queue = deque([node for node in graph if in_degree[node]==0])\n",
        "print(queue)"
      ],
      "metadata": {
        "id": "9zdkXE44ghdo",
        "outputId": "c91b13bb-2a3c-47a0-b72a-6c2fe3c5a181",
        "colab": {
          "base_uri": "https://localhost:8080/"
        }
      },
      "execution_count": 61,
      "outputs": [
        {
          "output_type": "stream",
          "name": "stdout",
          "text": [
            "deque(['A', 'B'])\n"
          ]
        }
      ]
    },
    {
      "cell_type": "code",
      "source": [
        "in_degree"
      ],
      "metadata": {
        "id": "a3g58_i2FfD9",
        "outputId": "aa91477e-8d7a-4c03-fd58-fb48a322958b",
        "colab": {
          "base_uri": "https://localhost:8080/"
        }
      },
      "execution_count": 62,
      "outputs": [
        {
          "output_type": "execute_result",
          "data": {
            "text/plain": [
              "defaultdict(int,\n",
              "            {'C': 2, 'D': 1, 'E': 1, 'F': 1, 'H': 1, 'G': 1, 'A': 0, 'B': 0})"
            ]
          },
          "metadata": {},
          "execution_count": 62
        }
      ]
    },
    {
      "cell_type": "code",
      "source": [
        "from collections import defaultdict\n",
        "in_degree = defaultdict(int)\n",
        "for node in graph:\n",
        "    for neighbor in graph[node]:\n",
        "        in_degree[neighbor] += 1"
      ],
      "metadata": {
        "id": "jwJjfILcDofE"
      },
      "execution_count": 57,
      "outputs": []
    },
    {
      "cell_type": "code",
      "source": [
        "in_degree"
      ],
      "metadata": {
        "id": "LCtr9uv8EuSD",
        "outputId": "13781e1a-4542-4297-fa51-68ab0c4ff391",
        "colab": {
          "base_uri": "https://localhost:8080/"
        }
      },
      "execution_count": 58,
      "outputs": [
        {
          "output_type": "execute_result",
          "data": {
            "text/plain": [
              "defaultdict(int,\n",
              "            {'B': 3,\n",
              "             'C': 2,\n",
              "             'D': 3,\n",
              "             'O': 1,\n",
              "             'A': 4,\n",
              "             'E': 1,\n",
              "             'F': 2,\n",
              "             'G': 2,\n",
              "             'H': 1,\n",
              "             'I': 1,\n",
              "             'J': 2,\n",
              "             'K': 2,\n",
              "             'L': 2,\n",
              "             'M': 1,\n",
              "             'N': 1})"
            ]
          },
          "metadata": {},
          "execution_count": 58
        }
      ]
    },
    {
      "cell_type": "code",
      "source": [
        "topo_order = []\n",
        "while queue:\n",
        "    node = queue.popleft()\n",
        "    topo_order.append(node)\n",
        "    for neighbor in graph[node]:\n",
        "        in_degree[neighbor] -= 1\n",
        "        if in_degree[neighbor] == 0:\n",
        "            queue.append(neighbor)\n",
        "print(topo_order)"
      ],
      "metadata": {
        "id": "9US5V7FuhLj-",
        "outputId": "471f24c7-d0d9-45d3-bb2e-13afc3de77ce",
        "colab": {
          "base_uri": "https://localhost:8080/"
        }
      },
      "execution_count": 49,
      "outputs": [
        {
          "output_type": "stream",
          "name": "stdout",
          "text": [
            "['A', 'B', 'C', 'D', 'E', 'F', 'H', 'G']\n"
          ]
        }
      ]
    },
    {
      "cell_type": "code",
      "source": [
        "from collections import defaultdict, deque\n",
        "\n",
        "def topological_sort(graph):\n",
        "    # Step 1: Calculate in-degrees of all nodes\n",
        "    in_degree = {node: 0 for node in graph}\n",
        "    for node in graph:\n",
        "        for neighbor in graph[node]:\n",
        "            in_degree[neighbor] += 1\n",
        "\n",
        "    # Step 2: Collect nodes with no incoming edges\n",
        "    queue = deque([node for node in graph if in_degree[node] == 0])\n",
        "    top_order = []\n",
        "\n",
        "    # Step 3: Process nodes with no incoming edges\n",
        "    while queue:\n",
        "        node = queue.popleft()\n",
        "        top_order.append(node)\n",
        "\n",
        "        # Reduce in-degree of neighbors and add them to the queue if they have no incoming edges\n",
        "        for neighbor in graph[node]:\n",
        "            in_degree[neighbor] -= 1\n",
        "            if in_degree[neighbor] == 0:\n",
        "                queue.append(neighbor)\n",
        "\n",
        "    # If top_order contains all nodes, return it; otherwise, there was a cycle\n",
        "    if len(top_order) == len(graph):\n",
        "        return top_order\n",
        "    else:\n",
        "        return \"Graph has a cycle, topological sorting is not possible.\"\n",
        "\n",
        "# Example usage:\n",
        "graph = {\n",
        "    'A': ['C'],\n",
        "    'B': ['C', 'D'],\n",
        "    'C': ['E'],\n",
        "    'D': ['F'],\n",
        "    'E': ['H'],\n",
        "    'F': ['G'],\n",
        "    'G': [],\n",
        "    'H': []\n",
        "}\n",
        "\n",
        "top_order = topological_sort(graph)\n",
        "print(\"Topological Order:\", top_order)\n"
      ],
      "metadata": {
        "id": "Cy7sxOjZ133C",
        "outputId": "47e57a49-ad33-4818-8990-389baaa5014f",
        "colab": {
          "base_uri": "https://localhost:8080/"
        }
      },
      "execution_count": 50,
      "outputs": [
        {
          "output_type": "stream",
          "name": "stdout",
          "text": [
            "Topological Order: ['A', 'B', 'C', 'D', 'E', 'F', 'H', 'G']\n"
          ]
        }
      ]
    },
    {
      "cell_type": "code",
      "source": [],
      "metadata": {
        "id": "6gWcD-oq14ah"
      },
      "execution_count": 50,
      "outputs": []
    }
  ]
}
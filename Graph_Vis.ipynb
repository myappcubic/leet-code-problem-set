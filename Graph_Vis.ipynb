{
  "nbformat": 4,
  "nbformat_minor": 0,
  "metadata": {
    "colab": {
      "provenance": [],
      "collapsed_sections": [
        "C4HZrziWKz3x"
      ],
      "toc_visible": true,
      "authorship_tag": "ABX9TyODk2FToopAO7G0m//vmWuL",
      "include_colab_link": true
    },
    "kernelspec": {
      "name": "python3",
      "display_name": "Python 3"
    },
    "language_info": {
      "name": "python"
    }
  },
  "cells": [
    {
      "cell_type": "markdown",
      "metadata": {
        "id": "view-in-github",
        "colab_type": "text"
      },
      "source": [
        "<a href=\"https://colab.research.google.com/github/myappcubic/leet-code-problem-set/blob/main/Graph_Vis.ipynb\" target=\"_parent\"><img src=\"https://colab.research.google.com/assets/colab-badge.svg\" alt=\"Open In Colab\"/></a>"
      ]
    },
    {
      "cell_type": "markdown",
      "source": [
        "# Install Packages for Visulization"
      ],
      "metadata": {
        "id": "C4HZrziWKz3x"
      }
    },
    {
      "cell_type": "code",
      "execution_count": null,
      "metadata": {
        "colab": {
          "base_uri": "https://localhost:8080/"
        },
        "id": "1-rcL242C1k4",
        "outputId": "beccb532-fc9f-4593-8043-5d6c39bb0d6a"
      },
      "outputs": [
        {
          "output_type": "stream",
          "name": "stdout",
          "text": [
            "Reading package lists... Done\n",
            "Building dependency tree... Done\n",
            "Reading state information... Done\n",
            "graphviz is already the newest version (2.42.2-6ubuntu0.1).\n",
            "0 upgraded, 0 newly installed, 0 to remove and 45 not upgraded.\n",
            "Requirement already satisfied: graphviz in /usr/local/lib/python3.10/dist-packages (0.20.3)\n"
          ]
        }
      ],
      "source": [
        "!apt-get install graphviz\n",
        "!pip install graphviz\n"
      ]
    },
    {
      "cell_type": "markdown",
      "source": [
        "## Just A simple Visualization"
      ],
      "metadata": {
        "id": "0hRvKw08KdqN"
      }
    },
    {
      "cell_type": "code",
      "source": [
        "import graphviz\n",
        "from collections import deque\n",
        "from IPython.display import Image, display, clear_output\n",
        "import time\n",
        "\n",
        "class TreeNode:\n",
        "    def __init__(self, key):\n",
        "        self.left = None\n",
        "        self.right = None\n",
        "        self.val = key\n",
        "\n",
        "def add_edges(graph, root, visited=set()):\n",
        "    if root is not None:\n",
        "        if root.left is not None:\n",
        "            graph.edge(str(root.val), str(root.left.val))\n",
        "            add_edges(graph, root.left, visited)\n",
        "        if root.right is not None:\n",
        "            graph.edge(str(root.val), str(root.right.val))\n",
        "            add_edges(graph, root.right, visited)\n",
        "\n",
        "def visualize_tree(root, visited):\n",
        "    graph = graphviz.Digraph()\n",
        "    nodes_to_visit = deque([root])\n",
        "    while nodes_to_visit:\n",
        "        node = nodes_to_visit.popleft()\n",
        "        if node:\n",
        "            color = \"orange\" if node in visited else \"gray\"\n",
        "            graph.node(str(node.val), str(node.val), color=color, style='filled', fillcolor=color, shape=\"circle\")\n",
        "            if node.left:\n",
        "                nodes_to_visit.append(node.left)\n",
        "            if node.right:\n",
        "                nodes_to_visit.append(node.right)\n",
        "    add_edges(graph, root, visited)\n",
        "    return graph\n",
        "\n",
        "def create_tree_with_height(height):\n",
        "    root = TreeNode(1)\n",
        "    current_level = [root]\n",
        "    value = 2\n",
        "    for _ in range(height):\n",
        "        next_level = []\n",
        "        for node in current_level:\n",
        "            node.left = TreeNode(value)\n",
        "            value += 1\n",
        "            node.right = TreeNode(value)\n",
        "            value += 1\n",
        "            next_level.extend([node.left, node.right])\n",
        "        current_level = next_level\n",
        "    return root\n",
        "\n",
        "def bfs_traversal_and_animation(root):\n",
        "    if root is None:\n",
        "        return []\n",
        "    queue = deque([root])\n",
        "    traversal = []\n",
        "    visited = set()\n",
        "    step = 0\n",
        "    while queue:\n",
        "        node = queue.popleft()\n",
        "        traversal.append(node.val)\n",
        "        visited.add(node)\n",
        "        graph = visualize_tree(root, visited)\n",
        "        graph.render(f'binary_tree_step_{step}', format='png')\n",
        "        display(Image(filename=f'binary_tree_step_{step}.png'))\n",
        "        time.sleep(1)\n",
        "        clear_output(wait=True)\n",
        "        step += 1\n",
        "        if node.left:\n",
        "            queue.append(node.left)\n",
        "        if node.right:\n",
        "            queue.append(node.right)\n",
        "    return traversal\n",
        "\n",
        "# Create and visualize a binary tree with height 4\n",
        "root = create_tree_with_height(4)\n",
        "\n",
        "# Perform BFS traversal with animation\n",
        "traversal_result = bfs_traversal_and_animation(root)\n",
        "print(\"BFS Traversal:\", traversal_result)"
      ],
      "metadata": {
        "colab": {
          "base_uri": "https://localhost:8080/",
          "height": 766
        },
        "id": "bWrwEJwMDKt8",
        "outputId": "f442bddd-96c4-431a-ce97-74696ea084b8"
      },
      "execution_count": null,
      "outputs": [
        {
          "output_type": "display_data",
          "data": {
            "image/png": "[encoded data removed]",
            "text/plain": [
              "<IPython.core.display.Image object>"
            ]
          },
          "metadata": {}
        },
        {
          "output_type": "error",
          "ename": "KeyboardInterrupt",
          "evalue": "",
          "traceback": [
            "\u001b[0;31m---------------------------------------------------------------------------\u001b[0m",
            "\u001b[0;31mKeyboardInterrupt\u001b[0m                         Traceback (most recent call last)",
            "\u001b[0;32m<ipython-input-18-555e08bec046>\u001b[0m in \u001b[0;36m<cell line: 78>\u001b[0;34m()\u001b[0m\n\u001b[1;32m     76\u001b[0m \u001b[0;34m\u001b[0m\u001b[0m\n\u001b[1;32m     77\u001b[0m \u001b[0;31m# Perform BFS traversal with animation\u001b[0m\u001b[0;34m\u001b[0m\u001b[0;34m\u001b[0m\u001b[0m\n\u001b[0;32m---> 78\u001b[0;31m \u001b[0mtraversal_result\u001b[0m \u001b[0;34m=\u001b[0m \u001b[0mbfs_traversal_and_animation\u001b[0m\u001b[0;34m(\u001b[0m\u001b[0mroot\u001b[0m\u001b[0;34m)\u001b[0m\u001b[0;34m\u001b[0m\u001b[0;34m\u001b[0m\u001b[0m\n\u001b[0m\u001b[1;32m     79\u001b[0m \u001b[0mprint\u001b[0m\u001b[0;34m(\u001b[0m\u001b[0;34m\"BFS Traversal:\"\u001b[0m\u001b[0;34m,\u001b[0m \u001b[0mtraversal_result\u001b[0m\u001b[0;34m)\u001b[0m\u001b[0;34m\u001b[0m\u001b[0;34m\u001b[0m\u001b[0m\n",
            "\u001b[0;32m<ipython-input-18-555e08bec046>\u001b[0m in \u001b[0;36mbfs_traversal_and_animation\u001b[0;34m(root)\u001b[0m\n\u001b[1;32m     63\u001b[0m         \u001b[0mgraph\u001b[0m\u001b[0;34m.\u001b[0m\u001b[0mrender\u001b[0m\u001b[0;34m(\u001b[0m\u001b[0;34mf'binary_tree_step_{step}'\u001b[0m\u001b[0;34m,\u001b[0m \u001b[0mformat\u001b[0m\u001b[0;34m=\u001b[0m\u001b[0;34m'png'\u001b[0m\u001b[0;34m)\u001b[0m\u001b[0;34m\u001b[0m\u001b[0;34m\u001b[0m\u001b[0m\n\u001b[1;32m     64\u001b[0m         \u001b[0mdisplay\u001b[0m\u001b[0;34m(\u001b[0m\u001b[0mImage\u001b[0m\u001b[0;34m(\u001b[0m\u001b[0mfilename\u001b[0m\u001b[0;34m=\u001b[0m\u001b[0;34mf'binary_tree_step_{step}.png'\u001b[0m\u001b[0;34m)\u001b[0m\u001b[0;34m)\u001b[0m\u001b[0;34m\u001b[0m\u001b[0;34m\u001b[0m\u001b[0m\n\u001b[0;32m---> 65\u001b[0;31m         \u001b[0mtime\u001b[0m\u001b[0;34m.\u001b[0m\u001b[0msleep\u001b[0m\u001b[0;34m(\u001b[0m\u001b[0;36m1\u001b[0m\u001b[0;34m)\u001b[0m\u001b[0;34m\u001b[0m\u001b[0;34m\u001b[0m\u001b[0m\n\u001b[0m\u001b[1;32m     66\u001b[0m         \u001b[0mclear_output\u001b[0m\u001b[0;34m(\u001b[0m\u001b[0mwait\u001b[0m\u001b[0;34m=\u001b[0m\u001b[0;32mTrue\u001b[0m\u001b[0;34m)\u001b[0m\u001b[0;34m\u001b[0m\u001b[0;34m\u001b[0m\u001b[0m\n\u001b[1;32m     67\u001b[0m         \u001b[0mstep\u001b[0m \u001b[0;34m+=\u001b[0m \u001b[0;36m1\u001b[0m\u001b[0;34m\u001b[0m\u001b[0;34m\u001b[0m\u001b[0m\n",
            "\u001b[0;31mKeyboardInterrupt\u001b[0m: "
          ]
        }
      ]
    },
    {
      "cell_type": "markdown",
      "source": [
        "# Create a tree object and then perform traversal"
      ],
      "metadata": {
        "id": "btI5Zkb9KmiT"
      }
    },
    {
      "cell_type": "markdown",
      "source": [
        "Define a Tree"
      ],
      "metadata": {
        "id": "QZ4jFPwzK7TN"
      }
    },
    {
      "cell_type": "code",
      "source": [
        "class Tree:\n",
        "  def __init__(self, key):\n",
        "    self.left = None;\n",
        "    self.right = None;\n",
        "    self.val = key;"
      ],
      "metadata": {
        "id": "Wmw9NsEMKl-R"
      },
      "execution_count": null,
      "outputs": []
    },
    {
      "cell_type": "code",
      "source": [
        "arr = [1, 2, 3, 4, 5, 6, 7]"
      ],
      "metadata": {
        "id": "sY3qPywjLJlM"
      },
      "execution_count": null,
      "outputs": []
    },
    {
      "cell_type": "code",
      "source": [
        "def insert_level_order(root, arr, i):\n",
        "  if i < len(arr):\n",
        "    temp = Tree(arr[i])\n",
        "    root = temp\n",
        "\n",
        "    root.left = insert_level_order(root.left, arr, 2 * i + 1)\n",
        "    root.right = insert_level_order(root.right, arr, 2 * i + 2)\n",
        "\n",
        "  return root"
      ],
      "metadata": {
        "id": "_SXSjXA0QcC6"
      },
      "execution_count": null,
      "outputs": []
    },
    {
      "cell_type": "code",
      "source": [
        "root = insert_level_order(None, arr, 0)"
      ],
      "metadata": {
        "id": "4cl9zYYq4io1"
      },
      "execution_count": null,
      "outputs": []
    },
    {
      "cell_type": "code",
      "source": [
        "root.left.right.val"
      ],
      "metadata": {
        "colab": {
          "base_uri": "https://localhost:8080/"
        },
        "id": "Yh59U8cJ49RW",
        "outputId": "502a7279-240f-4ff0-ad1b-1834a8594543"
      },
      "execution_count": null,
      "outputs": [
        {
          "output_type": "execute_result",
          "data": {
            "text/plain": [
              "5"
            ]
          },
          "metadata": {},
          "execution_count": 6
        }
      ]
    },
    {
      "cell_type": "code",
      "source": [
        "def in_order_traveral(root):\n",
        "  if root:\n",
        "    in_order_traveral(root.left)\n",
        "    print(root.val, end = \" \")\n",
        "    in_order_traveral(root.right)"
      ],
      "metadata": {
        "id": "MYLKR4siSgG_"
      },
      "execution_count": null,
      "outputs": []
    },
    {
      "cell_type": "code",
      "source": [
        "def pre_order_list(root):\n",
        "  stack = [root]\n",
        "  result = []\n",
        "  while stack:\n",
        "    current_node = stack.pop()\n",
        "    result.append(current_node.val)\n",
        "    if current_node:\n",
        "      if current_node.right:\n",
        "        stack.append(current_node.right)\n",
        "      if current_node.left:\n",
        "        stack.append(current_node.left)\n",
        "  print(result)\n",
        "\n",
        "pre_order_list(root)"
      ],
      "metadata": {
        "colab": {
          "base_uri": "https://localhost:8080/"
        },
        "id": "Po999YZ-Sujh",
        "outputId": "58c1e2fb-b7ba-438e-897b-e38495d926a6"
      },
      "execution_count": null,
      "outputs": [
        {
          "output_type": "stream",
          "name": "stdout",
          "text": [
            "[1, 2, 4, 5, 3, 6, 7]\n"
          ]
        }
      ]
    },
    {
      "cell_type": "markdown",
      "source": [
        "## Pre Order Traversal\n"
      ],
      "metadata": {
        "id": "ishrOllcciWb"
      }
    },
    {
      "cell_type": "code",
      "source": [
        "def pre_order_iter_simple(root):\n",
        "  result = []\n",
        "  stack = [root]\n",
        "  while stack:\n",
        "    current = stack.pop()\n",
        "    result.append(current.val)\n",
        "    if current.right:\n",
        "      stack.append(current.right)\n",
        "    if current.left:\n",
        "      stack.append(current.left)\n",
        "  print(result)\n",
        "\n",
        "pre_order_iter_simple(root)"
      ],
      "metadata": {
        "colab": {
          "base_uri": "https://localhost:8080/"
        },
        "id": "fTI3ttPoq-mm",
        "outputId": "2cab1f5f-a9d2-425d-929d-f9b1513d74be"
      },
      "execution_count": null,
      "outputs": [
        {
          "output_type": "stream",
          "name": "stdout",
          "text": [
            "[1, 2, 4, 5, 3, 6, 7]\n"
          ]
        }
      ]
    },
    {
      "cell_type": "code",
      "source": [
        "def pre_order_list(root):\n",
        "  stack = []\n",
        "  result = []\n",
        "  curr = root\n",
        "  while curr or stack:\n",
        "    if curr:\n",
        "      result.append(curr.val)\n",
        "      if curr.right:\n",
        "        stack.append(curr.right)\n",
        "      curr = curr.left\n",
        "    else:\n",
        "      curr = stack.pop()\n",
        "\n",
        "\n",
        "    #   # Push right child first so that left child is processed first\n",
        "    #   if curr.right:\n",
        "    #     stack.append(curr.right)\n",
        "    #   curr = curr.left\n",
        "    # else:\n",
        "    #   curr = stack.pop()\n",
        "\n",
        "  print(result)\n",
        "\n",
        "\n",
        "pre_order_list(root)"
      ],
      "metadata": {
        "colab": {
          "base_uri": "https://localhost:8080/"
        },
        "id": "JVrMWW1ucjt_",
        "outputId": "3007c531-d940-4568-806d-879e15011c1a"
      },
      "execution_count": null,
      "outputs": [
        {
          "output_type": "stream",
          "name": "stdout",
          "text": [
            "[1, 2, 4, 5, 3, 6, 7]\n"
          ]
        }
      ]
    },
    {
      "cell_type": "markdown",
      "source": [
        "## In Order Traversal\n",
        "use an additional pointer\n",
        "\n",
        "left -> current -> right"
      ],
      "metadata": {
        "id": "lV2nyhykLfCG"
      }
    },
    {
      "cell_type": "code",
      "source": [
        "def in_order_iter(root):\n",
        "  if not root:\n",
        "    print(\"[]\")\n",
        "    return\n",
        "  res = []\n",
        "  curr = root\n",
        "  stack = []\n",
        "  while curr or stack:\n",
        "    # ensure always push valid node into stack\n",
        "    if curr:\n",
        "      stack.append(curr)\n",
        "      curr = curr.left\n",
        "    else:\n",
        "      curr = stack.pop()\n",
        "      res.append(curr.val)\n",
        "      curr = curr.right\n",
        "  print(res)\n",
        "in_order_iter(root)"
      ],
      "metadata": {
        "colab": {
          "base_uri": "https://localhost:8080/"
        },
        "id": "S0uDKXQKqW50",
        "outputId": "874fdbf2-85d1-4ded-cf16-b000c765877f"
      },
      "execution_count": null,
      "outputs": [
        {
          "output_type": "stream",
          "name": "stdout",
          "text": [
            "[4, 2, 8, 5, 1, 6, 9, 3, 7]\n"
          ]
        }
      ]
    },
    {
      "cell_type": "markdown",
      "source": [
        "### Morris Traversal"
      ],
      "metadata": {
        "id": "u8gh-hhNbMMt"
      }
    },
    {
      "cell_type": "markdown",
      "source": [
        "1. **Initial Check**\n",
        "> In human language, because it follows left -> curr -> right, if curr no left, it ***has*** to be curr\n",
        "\n",
        "  - If `curr` has no left child (`not curr.left`), the `value` of `curr` is appended to result, and curr is moved to its right child (curr = curr.right).\n",
        "\n",
        "2. **Find the Predecessor**\n",
        "> what is a `pre`? In human language, its **the last node it visits before** visiting the `cur`\n",
        "\n",
        "  - If curr has a `left` child, find the inorder `predecessor` (pre). This is done by moving to the left child (curr.left) and then continuously to the rightmost node in that subtree (pre.right).\n",
        "\n",
        "3. **Link to Current:**\n",
        "\n",
        "  - If the *right child of the predecessor is None* (`not pre.right`), create a temp link back to `curr` by setting `pre.right = curr`. Then, move curr to its left child (`curr = curr.left`).\n",
        "\n",
        "4. **Break the Link:**\n",
        "\n",
        "  - If the right child of the predecessor is curr (`pre.right == curr`), it indicates the **left subtree has been fully traversed**. The temporary link is removed by setting `pre.right = None`, the value of curr is appended to result, and curr is moved to its right child (`curr = curr.right`)."
      ],
      "metadata": {
        "id": "XYmx5t4INxrN"
      }
    },
    {
      "cell_type": "code",
      "source": [
        "def in_order_moris_rewrite(root):\n",
        "  cur = root\n",
        "  res = []\n",
        "  while cur:\n",
        "    if not cur.left:\n",
        "      res.append(cur.val)\n",
        "      cur = cur.right\n",
        "    else:\n",
        "      pre = cur.left\n",
        "      while pre.right and pre.right != cur:\n",
        "        pre = pre.right\n",
        "      if not pre.right:\n",
        "        pre.right = cur\n",
        "        cur = cur.left\n",
        "      else:\n",
        "        pre.right = None\n",
        "        res.append(cur.val)\n",
        "        cur = cur.right\n",
        "  print(res)\n",
        "\n",
        "in_order_moris_rewrite(root)"
      ],
      "metadata": {
        "colab": {
          "base_uri": "https://localhost:8080/"
        },
        "id": "M3-FiXLuAsAB",
        "outputId": "e6465269-4e3f-4287-8251-87de5f53dd15"
      },
      "execution_count": null,
      "outputs": [
        {
          "output_type": "stream",
          "name": "stdout",
          "text": [
            "[4, 2, 8, 5, 1, 6, 9, 3, 7]\n"
          ]
        }
      ]
    },
    {
      "cell_type": "code",
      "source": [
        "def in_order_iter_stack(root):\n",
        "  result = []\n",
        "  stack = []\n",
        "  curr = root\n",
        "  while stack or curr:\n",
        "    if curr:\n",
        "      stack.append(curr)\n",
        "      curr = curr.left\n",
        "    else:\n",
        "      curr = stack.pop()\n",
        "      result.append(curr.val)\n",
        "      curr = curr.right\n",
        "    print(result)\n",
        "\n",
        "in_order_iter_stack(root)"
      ],
      "metadata": {
        "id": "HMMHyxq8Lmub",
        "colab": {
          "base_uri": "https://localhost:8080/"
        },
        "outputId": "2a7b51a1-f677-4b2b-c653-a21f3e8319f2"
      },
      "execution_count": null,
      "outputs": [
        {
          "output_type": "stream",
          "name": "stdout",
          "text": [
            "[]\n",
            "[]\n",
            "[]\n",
            "[4]\n",
            "[4, 2]\n",
            "[4, 2]\n",
            "[4, 2, 5]\n",
            "[4, 2, 5, 1]\n",
            "[4, 2, 5, 1]\n",
            "[4, 2, 5, 1]\n",
            "[4, 2, 5, 1, 6]\n",
            "[4, 2, 5, 1, 6, 3]\n",
            "[4, 2, 5, 1, 6, 3]\n",
            "[4, 2, 5, 1, 6, 3, 7]\n"
          ]
        }
      ]
    },
    {
      "cell_type": "code",
      "source": [
        "root.val"
      ],
      "metadata": {
        "colab": {
          "base_uri": "https://localhost:8080/"
        },
        "id": "uQc5IzY-U1W7",
        "outputId": "64fbf158-60f3-4663-8973-dc8492feaf70"
      },
      "execution_count": null,
      "outputs": [
        {
          "output_type": "execute_result",
          "data": {
            "text/plain": [
              "1"
            ]
          },
          "metadata": {},
          "execution_count": 56
        }
      ]
    },
    {
      "cell_type": "code",
      "source": [
        "def in_order_list(root):\n",
        "  result = []\n",
        "  stack = []\n",
        "  current = root\n",
        "  while stack or current:\n",
        "    while current:\n",
        "      stack.append(current)\n",
        "      current = current.left\n",
        "    current = stack.pop()\n",
        "    result.append(current.val)\n",
        "    current = current.right\n",
        "  print(result)\n",
        "\n",
        "in_order_list(root)"
      ],
      "metadata": {
        "colab": {
          "base_uri": "https://localhost:8080/"
        },
        "id": "wNaK8yj5WggU",
        "outputId": "dc8676bf-fcbb-4882-d2d1-2c94be641c15"
      },
      "execution_count": null,
      "outputs": [
        {
          "output_type": "stream",
          "name": "stdout",
          "text": [
            "[4, 2, 5, 1, 6, 3, 7]\n"
          ]
        }
      ]
    },
    {
      "cell_type": "markdown",
      "source": [
        "## Post Order Traversal"
      ],
      "metadata": {
        "id": "Yp-MMYvj53as"
      }
    },
    {
      "cell_type": "markdown",
      "source": [
        "### Reverse Logic from Pre Order Traversal"
      ],
      "metadata": {
        "id": "RTPhWeSM5_Bu"
      }
    },
    {
      "cell_type": "code",
      "source": [
        "def post_order_iter_rev(root):\n",
        "  if not root:\n",
        "    return\n",
        "  res = []\n",
        "  stack = [root]\n",
        "  while stack:\n",
        "    for (index, item) in enumerate(stack):\n",
        "      print(item.val, end=(\" \"))\n",
        "    print(\"\\n ----{}---items\".format(index+1), end=\"\\n\")\n",
        "    current_node = stack.pop()\n",
        "    # current_node is always valid because we DO NOT append None\n",
        "    res.append(current_node.val)\n",
        "    if current_node:\n",
        "      if current_node.left:\n",
        "        stack.append(current_node.left)\n",
        "      if current_node.right:\n",
        "        stack.append(current_node.right)\n",
        "  print(res[::-1])\n",
        "\n",
        "post_order_iter_rev(root)"
      ],
      "metadata": {
        "colab": {
          "base_uri": "https://localhost:8080/"
        },
        "id": "nNXM3va26H9w",
        "outputId": "3d3885a2-3179-41bb-d3d4-c64e80797d5b"
      },
      "execution_count": null,
      "outputs": [
        {
          "output_type": "stream",
          "name": "stdout",
          "text": [
            "1 \n",
            " ----1---items\n",
            "2 3 \n",
            " ----2---items\n",
            "2 6 7 \n",
            " ----3---items\n",
            "2 6 \n",
            " ----2---items\n",
            "2 \n",
            " ----1---items\n",
            "4 5 \n",
            " ----2---items\n",
            "4 \n",
            " ----1---items\n",
            "[4, 5, 2, 6, 7, 3, 1]\n"
          ]
        }
      ]
    },
    {
      "cell_type": "markdown",
      "source": [
        "### Peek the Top of the Stack\n",
        "and follow the `right` `center` `left` order"
      ],
      "metadata": {
        "id": "u-uIl0EUDdOW"
      }
    },
    {
      "cell_type": "code",
      "source": [
        "def post_order_iter_peek(root):\n",
        "  if not root:\n",
        "    return\n",
        "  current_node = root\n",
        "  stack = []\n",
        "  result = []\n",
        "  last_visited = None\n",
        "  while current_node or stack:\n",
        "    if current_node:\n",
        "      stack.append(current_node)\n",
        "      current_node = current_node.left\n",
        "    else:\n",
        "      peek_stack = stack[-1]\n",
        "      if peek_stack.right and peek_stack.right != last_visited:\n",
        "        current_node = peek_stack.right\n",
        "      else:\n",
        "        result.append(peek_stack.val)\n",
        "        last_visited = stack.pop()\n",
        "  print(result)\n",
        "post_order_iter_peek(root)"
      ],
      "metadata": {
        "colab": {
          "base_uri": "https://localhost:8080/"
        },
        "id": "RRwZ0iwG7w9G",
        "outputId": "7bc7ef3d-16b7-4223-84f4-069c38795076"
      },
      "execution_count": null,
      "outputs": [
        {
          "output_type": "stream",
          "name": "stdout",
          "text": [
            "[4, 5, 2, 6, 7, 3, 1]\n"
          ]
        }
      ]
    },
    {
      "cell_type": "code",
      "source": [
        "# def post_order_list(root):\n",
        "#   stack = [root]\n",
        "#   result = []\n",
        "#   while stack:\n",
        "#     current_node = stack.pop()\n",
        "#     result.append(current_node.val)\n",
        "#     if current_node:\n",
        "\n",
        "#       if current_node.left:\n",
        "#         stack.append(current_node.left)\n",
        "#       if current_node.right:\n",
        "#         stack.append(current_node.right)\n",
        "#   print(result[::-1])\n",
        "\n",
        "def post_order_list(root):\n",
        "  stack = []\n",
        "  result = []\n",
        "  curr = root\n",
        "  last_visited = None\n",
        "  while stack or curr:\n",
        "    if curr:\n",
        "      stack.append(curr)\n",
        "      curr = curr.left\n",
        "    else:\n",
        "      peek = stack[-1]\n",
        "      if peek.right and peek.right != last_visited:\n",
        "        curr = peek.right\n",
        "      else:\n",
        "        result.append(peek.val)\n",
        "        last_visited = stack.pop()\n",
        "  print(result)\n",
        "\n",
        "post_order_list(root)"
      ],
      "metadata": {
        "colab": {
          "base_uri": "https://localhost:8080/"
        },
        "id": "jYIuIx5zRlMj",
        "outputId": "34a948ba-4533-4144-d927-5bb69cdd2340"
      },
      "execution_count": null,
      "outputs": [
        {
          "output_type": "stream",
          "name": "stdout",
          "text": [
            "[4, 5, 2, 6, 7, 3, 1]\n"
          ]
        }
      ]
    },
    {
      "cell_type": "markdown",
      "source": [],
      "metadata": {
        "id": "AVPO8etHRqsR"
      }
    },
    {
      "cell_type": "code",
      "source": [
        "class TreeNode:\n",
        "    def __init__(self, val=0, left=None, right=None):\n",
        "        self.val = val\n",
        "        self.left = left\n",
        "        self.right = right\n",
        "\n",
        "def bfs(root):\n",
        "    if not root:\n",
        "        return\n",
        "\n",
        "    current_layer = [root]\n",
        "    next_layer = []\n",
        "\n",
        "    while current_layer:\n",
        "        while current_layer:\n",
        "            curr = current_layer.pop()\n",
        "            print(curr.val)\n",
        "            if curr.left:\n",
        "                next_layer.append(curr.left)\n",
        "            if curr.right:\n",
        "                next_layer.append(curr.right)\n",
        "\n",
        "        if next_layer:\n",
        "            print(\"another level\")\n",
        "            current_layer, next_layer = next_layer, []\n",
        "\n",
        "# Example binary tree construction\n",
        "#         1\n",
        "#        / \\\n",
        "#       2   3\n",
        "#      /|   |\\\n",
        "#     4 5   6 7\n",
        "#      /     \\\n",
        "#     8       9\n",
        "root = TreeNode(1)\n",
        "root.left = TreeNode(2)\n",
        "root.right = TreeNode(3)\n",
        "root.left.left = TreeNode(4)\n",
        "root.left.right = TreeNode(5)\n",
        "root.right.left = TreeNode(6)\n",
        "root.right.right = TreeNode(7)\n",
        "root.left.right.left = TreeNode(8)\n",
        "root.right.left.right = TreeNode(9)\n",
        "\n",
        "bfs(root)"
      ],
      "metadata": {
        "id": "8Ifo84YHXNvH",
        "colab": {
          "base_uri": "https://localhost:8080/"
        },
        "outputId": "be95b3ce-5909-4945-c61c-f01b0f1885be"
      },
      "execution_count": null,
      "outputs": [
        {
          "output_type": "stream",
          "name": "stdout",
          "text": [
            "1\n",
            "another level\n",
            "3\n",
            "2\n",
            "another level\n",
            "5\n",
            "4\n",
            "7\n",
            "6\n",
            "another level\n",
            "9\n",
            "8\n"
          ]
        }
      ]
    },
    {
      "cell_type": "code",
      "source": [
        "from collections import deque\n",
        "\n",
        "def bfs(root):\n",
        "    queue = deque([root])\n",
        "    while queue:\n",
        "        node = queue.popleft()\n",
        "        print(node.val)\n",
        "        if node.right:\n",
        "            queue.append(node.right)\n",
        "        if node.left:\n",
        "            queue.append(node.left)\n",
        "\n",
        "\n",
        "bfs(root)"
      ],
      "metadata": {
        "colab": {
          "base_uri": "https://localhost:8080/"
        },
        "id": "u2AEu7HUhYE-",
        "outputId": "273fd03f-19c5-494d-9af6-5b1c9bbe0f7c"
      },
      "execution_count": null,
      "outputs": [
        {
          "output_type": "stream",
          "name": "stdout",
          "text": [
            "1\n",
            "3\n",
            "2\n",
            "7\n",
            "6\n",
            "5\n",
            "4\n",
            "9\n",
            "8\n"
          ]
        }
      ]
    },
    {
      "cell_type": "code",
      "source": [
        "queue.insert(0, 4)"
      ],
      "metadata": {
        "id": "dnz-VzvfgGNz"
      },
      "execution_count": null,
      "outputs": []
    },
    {
      "cell_type": "code",
      "source": [
        "class TreeNode:\n",
        "    def __init__(self, val=0, left=None, right=None):\n",
        "        self.val = val\n",
        "        self.left = left\n",
        "        self.right = right\n",
        "\n",
        "def bfs(root):\n",
        "    if not root:\n",
        "        return\n",
        "\n",
        "    current_layer = [root]\n",
        "    next_layer = []\n",
        "\n",
        "    while current_layer:\n",
        "        level_values = []\n",
        "\n",
        "        while current_layer:\n",
        "            node = current_layer.pop()\n",
        "            level_values.append(str(node.val))\n",
        "            if node.right:\n",
        "                next_layer.append(node.right)\n",
        "            if node.left:\n",
        "                next_layer.append(node.left)\n",
        "\n",
        "\n",
        "\n",
        "        print(\" \".join(level_values))\n",
        "\n",
        "        if next_layer:\n",
        "            current_layer = next_layer[::-1]  # Reverse the next layer\n",
        "            next_layer = []\n",
        "\n",
        "# Example binary tree construction\n",
        "#         1\n",
        "#        / \\\n",
        "#       2   3\n",
        "#      /|   |\\\n",
        "#     4 5   6 7\n",
        "#      /     \\\n",
        "#     8       9\n",
        "root = TreeNode(1)\n",
        "root.left = TreeNode(2)\n",
        "root.right = TreeNode(3)\n",
        "root.left.left = TreeNode(4)\n",
        "root.left.right = TreeNode(5)\n",
        "root.right.left = TreeNode(6)\n",
        "root.right.right = TreeNode(7)\n",
        "root.left.right.left = TreeNode(8)\n",
        "root.right.left.right = TreeNode(9)\n",
        "\n",
        "bfs(root)"
      ],
      "metadata": {
        "colab": {
          "base_uri": "https://localhost:8080/"
        },
        "id": "aign8Nufesgo",
        "outputId": "af23b74a-8a08-46b2-d69f-4faef1dc63cd"
      },
      "execution_count": null,
      "outputs": [
        {
          "output_type": "stream",
          "name": "stdout",
          "text": [
            "1\n",
            "3 2\n",
            "7 6 5 4\n",
            "9 8\n"
          ]
        }
      ]
    },
    {
      "cell_type": "markdown",
      "source": [
        "#### Re-implement Morris"
      ],
      "metadata": {
        "id": "-GIBmmm6MvJu"
      }
    },
    {
      "cell_type": "code",
      "source": [
        "# Example binary tree construction\n",
        "#         1\n",
        "#        / \\\n",
        "#       2   3\n",
        "#      /|   |\\\n",
        "#     4 5   6 7\n",
        "#      /     \\\n",
        "#     8       9"
      ],
      "metadata": {
        "id": "31Px6GrVfwsX"
      },
      "execution_count": null,
      "outputs": []
    },
    {
      "cell_type": "code",
      "source": [
        "def pre_order(root):\n",
        "    res, stack, cur = [],[], root\n",
        "    while stack or cur:\n",
        "        print([node.val for node in stack], res, cur.val if cur else None)\n",
        "        if cur:\n",
        "            res.append(cur.val)\n",
        "            stack.append(cur)\n",
        "            cur = cur.left\n",
        "        else:\n",
        "            cur = stack.pop()\n",
        "            cur = cur.right\n",
        "    print(res)\n",
        "pre_order(root)"
      ],
      "metadata": {
        "colab": {
          "base_uri": "https://localhost:8080/"
        },
        "id": "JPzFg23NWXtf",
        "outputId": "53387dfb-bd77-4519-ed37-870a052aa89d"
      },
      "execution_count": null,
      "outputs": [
        {
          "output_type": "stream",
          "name": "stdout",
          "text": [
            "[] [] 1\n",
            "[1] [1] 2\n",
            "[1, 2] [1, 2] 4\n",
            "[1, 2, 4] [1, 2, 4] None\n",
            "[1, 2] [1, 2, 4] None\n",
            "[1] [1, 2, 4] 5\n",
            "[1, 5] [1, 2, 4, 5] 8\n",
            "[1, 5, 8] [1, 2, 4, 5, 8] None\n",
            "[1, 5] [1, 2, 4, 5, 8] None\n",
            "[1] [1, 2, 4, 5, 8] None\n",
            "[] [1, 2, 4, 5, 8] 3\n",
            "[3] [1, 2, 4, 5, 8, 3] 6\n",
            "[3, 6] [1, 2, 4, 5, 8, 3, 6] None\n",
            "[3] [1, 2, 4, 5, 8, 3, 6] 9\n",
            "[3, 9] [1, 2, 4, 5, 8, 3, 6, 9] None\n",
            "[3] [1, 2, 4, 5, 8, 3, 6, 9] None\n",
            "[] [1, 2, 4, 5, 8, 3, 6, 9] 7\n",
            "[7] [1, 2, 4, 5, 8, 3, 6, 9, 7] None\n",
            "[1, 2, 4, 5, 8, 3, 6, 9, 7]\n"
          ]
        }
      ]
    },
    {
      "cell_type": "code",
      "source": [
        "def post_order_traversal(root):\n",
        "    res = []\n",
        "    stack = []\n",
        "    cur = root\n",
        "    last = None\n",
        "    while stack or cur:\n",
        "        if cur:\n",
        "            stack.append(cur)\n",
        "            cur = cur.left\n",
        "        else:\n",
        "            peek = stack[-1]\n",
        "            if peek.right and peek.right != last:\n",
        "                cur = peek.right\n",
        "            else:\n",
        "                res.append(peek.val)\n",
        "                last = stack.pop()\n",
        "\n",
        "    print(res)\n",
        "\n",
        "\n",
        "post_order_traversal(root)"
      ],
      "metadata": {
        "id": "OG2VT1bZM15W",
        "colab": {
          "base_uri": "https://localhost:8080/"
        },
        "outputId": "e1289806-2188-454f-f1bb-41d6c03c2444"
      },
      "execution_count": null,
      "outputs": [
        {
          "output_type": "stream",
          "name": "stdout",
          "text": [
            "[4, 8, 5, 2, 9, 6, 7, 3, 1]\n"
          ]
        }
      ]
    },
    {
      "cell_type": "code",
      "source": [
        "def in_order_traversal(root):\n",
        "    res, stack = [],[]\n",
        "    cur = root\n",
        "    while cur or stack:\n",
        "        if cur:\n",
        "            stack.append(cur)\n",
        "            cur = cur.left\n",
        "        else:\n",
        "            cur = stack.pop()\n",
        "            res.append(cur.val)\n",
        "            cur = cur.right\n",
        "    print(res)\n",
        "\n",
        "in_order_traversal(root)\n"
      ],
      "metadata": {
        "colab": {
          "base_uri": "https://localhost:8080/"
        },
        "id": "MU0IMrqlSGN0",
        "outputId": "885dfa50-9285-46fb-854a-aba5cbb3786c"
      },
      "execution_count": null,
      "outputs": [
        {
          "output_type": "stream",
          "name": "stdout",
          "text": [
            "[4, 2, 8, 5, 1, 6, 9, 3, 7]\n"
          ]
        }
      ]
    },
    {
      "cell_type": "markdown",
      "source": [
        "## Graph Traversal"
      ],
      "metadata": {
        "id": "UYO_lX3pM2sP"
      }
    },
    {
      "cell_type": "code",
      "source": [
        "graph = {\n",
        "    'A': ['B', 'C'],\n",
        "    'B': ['A', 'D', 'E'],\n",
        "    'C': ['A', 'F'],\n",
        "    'D': ['B'],\n",
        "    'E': ['B', 'F'],\n",
        "    'F': ['C', 'E']\n",
        "}"
      ],
      "metadata": {
        "id": "41ibwKEzG-g-"
      },
      "execution_count": null,
      "outputs": []
    },
    {
      "cell_type": "markdown",
      "source": [
        "### BFS Iterative"
      ],
      "metadata": {
        "id": "GFGkrUxDMwib"
      }
    },
    {
      "cell_type": "code",
      "source": [
        "from collections import deque\n",
        "def bfs_iterative(graph, started):\n",
        "    queue = deque([started])\n",
        "    visited = set()\n",
        "    visited.add(started)\n",
        "\n",
        "    while queue:\n",
        "        vertex = queue.popleft()\n",
        "        print(vertex, end=\" \")\n",
        "        for neighbor in graph[vertex]:\n",
        "            if not neighbor in visited:\n",
        "                visited.add(neighbor)\n",
        "                queue.append(neighbor)\n",
        "bfs_iterative(graph, 'A')"
      ],
      "metadata": {
        "colab": {
          "base_uri": "https://localhost:8080/"
        },
        "id": "ApAKUJ8ONHtL",
        "outputId": "acfdce1e-da0d-4e25-de35-e9437ff13e7f"
      },
      "execution_count": null,
      "outputs": [
        {
          "output_type": "stream",
          "name": "stdout",
          "text": [
            "A B C D E F "
          ]
        }
      ]
    },
    {
      "cell_type": "code",
      "source": [
        "def bfs_recursive(graph, queue, visited):\n",
        "    print(\"{},{}\".format(visited, queue))\n",
        "    if not queue:\n",
        "        return\n",
        "\n",
        "    for neighbor in graph[vertex]:\n",
        "        if neighbor not in visited:\n",
        "            visited.add(neighbor)\n",
        "            queue.append(neighbor)\n",
        "\n",
        "    vertex = queue.popleft()\n",
        "    print(vertex, end=' ')\n",
        "\n",
        "\n",
        "\n",
        "    bfs_recursive(graph, queue, visited)\n",
        "bfs_recursive(graph, deque(['A']), set(['A']))"
      ],
      "metadata": {
        "colab": {
          "base_uri": "https://localhost:8080/",
          "height": 315
        },
        "id": "ipIoE31WPbSJ",
        "outputId": "5e918488-662b-44f0-9a19-07ac9a2cf7d4"
      },
      "execution_count": null,
      "outputs": [
        {
          "output_type": "stream",
          "name": "stdout",
          "text": [
            "{'A'},deque(['A'])\n"
          ]
        },
        {
          "output_type": "error",
          "ename": "UnboundLocalError",
          "evalue": "local variable 'vertex' referenced before assignment",
          "traceback": [
            "\u001b[0;31m---------------------------------------------------------------------------\u001b[0m",
            "\u001b[0;31mUnboundLocalError\u001b[0m                         Traceback (most recent call last)",
            "\u001b[0;32m<ipython-input-53-60a883409430>\u001b[0m in \u001b[0;36m<cell line: 17>\u001b[0;34m()\u001b[0m\n\u001b[1;32m     15\u001b[0m \u001b[0;34m\u001b[0m\u001b[0m\n\u001b[1;32m     16\u001b[0m     \u001b[0mbfs_recursive\u001b[0m\u001b[0;34m(\u001b[0m\u001b[0mgraph\u001b[0m\u001b[0;34m,\u001b[0m \u001b[0mqueue\u001b[0m\u001b[0;34m,\u001b[0m \u001b[0mvisited\u001b[0m\u001b[0;34m)\u001b[0m\u001b[0;34m\u001b[0m\u001b[0;34m\u001b[0m\u001b[0m\n\u001b[0;32m---> 17\u001b[0;31m \u001b[0mbfs_recursive\u001b[0m\u001b[0;34m(\u001b[0m\u001b[0mgraph\u001b[0m\u001b[0;34m,\u001b[0m \u001b[0mdeque\u001b[0m\u001b[0;34m(\u001b[0m\u001b[0;34m[\u001b[0m\u001b[0;34m'A'\u001b[0m\u001b[0;34m]\u001b[0m\u001b[0;34m)\u001b[0m\u001b[0;34m,\u001b[0m \u001b[0mset\u001b[0m\u001b[0;34m(\u001b[0m\u001b[0;34m[\u001b[0m\u001b[0;34m'A'\u001b[0m\u001b[0;34m]\u001b[0m\u001b[0;34m)\u001b[0m\u001b[0;34m)\u001b[0m\u001b[0;34m\u001b[0m\u001b[0;34m\u001b[0m\u001b[0m\n\u001b[0m",
            "\u001b[0;32m<ipython-input-53-60a883409430>\u001b[0m in \u001b[0;36mbfs_recursive\u001b[0;34m(graph, queue, visited)\u001b[0m\n\u001b[1;32m      4\u001b[0m         \u001b[0;32mreturn\u001b[0m\u001b[0;34m\u001b[0m\u001b[0;34m\u001b[0m\u001b[0m\n\u001b[1;32m      5\u001b[0m \u001b[0;34m\u001b[0m\u001b[0m\n\u001b[0;32m----> 6\u001b[0;31m     \u001b[0;32mfor\u001b[0m \u001b[0mneighbor\u001b[0m \u001b[0;32min\u001b[0m \u001b[0mgraph\u001b[0m\u001b[0;34m[\u001b[0m\u001b[0mvertex\u001b[0m\u001b[0;34m]\u001b[0m\u001b[0;34m:\u001b[0m\u001b[0;34m\u001b[0m\u001b[0;34m\u001b[0m\u001b[0m\n\u001b[0m\u001b[1;32m      7\u001b[0m         \u001b[0;32mif\u001b[0m \u001b[0mneighbor\u001b[0m \u001b[0;32mnot\u001b[0m \u001b[0;32min\u001b[0m \u001b[0mvisited\u001b[0m\u001b[0;34m:\u001b[0m\u001b[0;34m\u001b[0m\u001b[0;34m\u001b[0m\u001b[0m\n\u001b[1;32m      8\u001b[0m             \u001b[0mvisited\u001b[0m\u001b[0;34m.\u001b[0m\u001b[0madd\u001b[0m\u001b[0;34m(\u001b[0m\u001b[0mneighbor\u001b[0m\u001b[0;34m)\u001b[0m\u001b[0;34m\u001b[0m\u001b[0;34m\u001b[0m\u001b[0m\n",
            "\u001b[0;31mUnboundLocalError\u001b[0m: local variable 'vertex' referenced before assignment"
          ]
        }
      ]
    },
    {
      "cell_type": "markdown",
      "source": [
        "# Graph Traversal"
      ],
      "metadata": {
        "id": "2TGMmJouPH1_"
      }
    },
    {
      "cell_type": "markdown",
      "source": [
        "## Union Find"
      ],
      "metadata": {
        "id": "_pGmv4OkoiVz"
      }
    },
    {
      "cell_type": "code",
      "source": [
        "class UnionFindRecursive:\n",
        "    def __init__(self, size):\n",
        "        self.parent = list(range(size))\n",
        "\n",
        "    def find(self, x):\n",
        "        if self.parent[x] != x:\n",
        "            self.parent[x] = self.find(self.parent[x])\n",
        "        return self.parent[x]\n",
        "\n",
        "    def union(self, x, y):\n",
        "        root_x = self.find(x)\n",
        "        root_y = self.find(y)\n",
        "        if root_x != root_y:\n",
        "            self.parent[root_y] = root_x\n",
        "\n",
        "class UnionFindIterative:\n",
        "    def __init__(self, size):\n",
        "        self.parent = list(range(size))\n",
        "\n",
        "    def find(self, x):\n",
        "        root = x\n",
        "        while self.parent[root] != root:\n",
        "            root = self.parent[root]\n",
        "\n",
        "        # Path compression\n",
        "        while x != root:\n",
        "            next_x = self.parent[x]\n",
        "            self.parent[x] = root\n",
        "            x = next_x\n",
        "\n",
        "        return root\n",
        "\n",
        "    def union(self, x, y):\n",
        "        root_x = self.find(x)\n",
        "        root_y = self.find(y)\n",
        "        if root_x != root_y:\n",
        "            self.parent[root_y] = root_x\n",
        "\n",
        "class UnionFindPathSplitting:\n",
        "    def __init__(self, size):\n",
        "        self.parent = list(range(size))\n",
        "\n",
        "    def find(self, x):\n",
        "        while self.parent[x] != x:\n",
        "            self.parent[x], x = self.parent[self.parent[x]], self.parent[x]\n",
        "        return x\n",
        "\n",
        "    def union(self, x, y):\n",
        "        root_x = self.find(x)\n",
        "        root_y = self.find(y)\n",
        "        if root_x != root_y:\n",
        "            self.parent[root_y] = root_x"
      ],
      "metadata": {
        "id": "8Td1q-ebok5j"
      },
      "execution_count": 79,
      "outputs": []
    },
    {
      "cell_type": "code",
      "source": [
        "import time\n",
        "import random\n",
        "\n",
        "def test_performance(UnionFindClass, size, operations):\n",
        "    uf = UnionFindClass(size)\n",
        "    start_time = time.time()\n",
        "    for _ in range(operations):\n",
        "        x, y = random.randint(0, size-1), random.randint(0, size-1)\n",
        "        uf.union(x, y)\n",
        "        uf.find(random.randint(0, size-1))\n",
        "    return time.time() - start_time\n",
        "\n",
        "size = 10000\n",
        "operations = 100000\n",
        "\n",
        "recursive_time = test_performance(UnionFindRecursive, size, operations)\n",
        "iterative_time = test_performance(UnionFindIterative, size, operations)\n",
        "path_splitting_time = test_performance(UnionFindPathSplitting, size, operations)\n",
        "\n",
        "print(f\"Recursive Path Compression time: {recursive_time:.4f} seconds\")\n",
        "print(f\"Iterative Path Compression time: {iterative_time:.4f} seconds\")\n",
        "print(f\"Path Splitting time: {path_splitting_time:.4f} seconds\")"
      ],
      "metadata": {
        "colab": {
          "base_uri": "https://localhost:8080/"
        },
        "id": "ImKHlMXTpGvS",
        "outputId": "17b500d4-1a1b-4fff-fd63-061360705fd1"
      },
      "execution_count": 81,
      "outputs": [
        {
          "output_type": "stream",
          "name": "stdout",
          "text": [
            "Recursive Path Compression time: 0.5051 seconds\n",
            "Iterative Path Compression time: 0.6650 seconds\n",
            "Path Splitting time: 0.8821 seconds\n"
          ]
        }
      ]
    },
    {
      "cell_type": "code",
      "source": [
        "uf.union(0, 1)\n",
        "uf.union(2, 3)\n",
        "uf.union(4, 5)\n",
        "uf.union(6, 7)\n",
        "uf.union(8, 9)\n",
        "uf.union(1, 5)\n",
        "uf.union(5, 7)\n",
        "uf.parent"
      ],
      "metadata": {
        "colab": {
          "base_uri": "https://localhost:8080/"
        },
        "id": "z9dNZ2z7pHlU",
        "outputId": "78100642-bdad-47a9-c1db-af8794e18c4e"
      },
      "execution_count": 78,
      "outputs": [
        {
          "output_type": "execute_result",
          "data": {
            "text/plain": [
              "[0, 0, 2, 2, 0, 0, 0, 6, 8, 8]"
            ]
          },
          "metadata": {},
          "execution_count": 78
        }
      ]
    },
    {
      "cell_type": "code",
      "source": [
        "for i in range(10):\n",
        "    print(f\"Root of {i}: {uf.find(i)}\")"
      ],
      "metadata": {
        "colab": {
          "base_uri": "https://localhost:8080/"
        },
        "id": "rNpDPWnfrbEu",
        "outputId": "43e5782f-2fcb-4241-aeb7-aa4b65b2a350"
      },
      "execution_count": 73,
      "outputs": [
        {
          "output_type": "stream",
          "name": "stdout",
          "text": [
            "Root of 0: 0\n",
            "Root of 1: 0\n",
            "Root of 2: 2\n",
            "Root of 3: 2\n",
            "Root of 4: 0\n",
            "Root of 5: 0\n",
            "Root of 6: 0\n",
            "Root of 7: 0\n",
            "Root of 8: 8\n",
            "Root of 9: 8\n"
          ]
        }
      ]
    }
  ]
}
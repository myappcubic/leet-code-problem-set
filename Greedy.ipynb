{
  "nbformat": 4,
  "nbformat_minor": 0,
  "metadata": {
    "colab": {
      "provenance": [],
      "include_colab_link": true
    },
    "kernelspec": {
      "name": "python3",
      "display_name": "Python 3"
    },
    "language_info": {
      "name": "python"
    }
  },
  "cells": [
    {
      "cell_type": "markdown",
      "metadata": {
        "id": "view-in-github",
        "colab_type": "text"
      },
      "source": [
        "<a href=\"https://colab.research.google.com/github/myappcubic/leet-code-problem-set/blob/main/Greedy.ipynb\" target=\"_parent\"><img src=\"https://colab.research.google.com/assets/colab-badge.svg\" alt=\"Open In Colab\"/></a>"
      ]
    },
    {
      "cell_type": "markdown",
      "source": [
        "**135. Candy**\n",
        "\n",
        "There are `n` children standing in a line. *Each* child is assigned a rating value given in the integer array `ratings`.\n",
        "\n",
        "You are giving candies to these children subjected to the following requirements:\n",
        "\n",
        "- Each child must have at least one candy.\n",
        "- Children with a higher rating get more candies than their neighbors.\n",
        "\n",
        "Return the *minimum* number of candies you need to have to distribute the candies to the children."
      ],
      "metadata": {
        "id": "UTi4E9X1zTz3"
      }
    },
    {
      "cell_type": "code",
      "source": [
        "from typing import List"
      ],
      "metadata": {
        "id": "9PYhGcIszpSN"
      },
      "execution_count": null,
      "outputs": []
    },
    {
      "cell_type": "code",
      "execution_count": null,
      "metadata": {
        "colab": {
          "base_uri": "https://localhost:8080/"
        },
        "id": "hvv6bWNmy1xA",
        "outputId": "8108f32f-f4ad-46f3-ad8c-e419001ca006"
      },
      "outputs": [
        {
          "output_type": "stream",
          "name": "stdout",
          "text": [
            "5\n"
          ]
        }
      ],
      "source": [
        "class Solution:\n",
        "    def candy(self, ratings: List[int]) -> int:\n",
        "        res = [1]*len(ratings)\n",
        "        lbase, rbase = 1, 1\n",
        "\n",
        "        for i in range(1, len(ratings)): # Start from the 2nd element and compare previous\n",
        "            lbase = lbase + 1 if ratings[i] > ratings[i - 1] else 1\n",
        "            res[i] = lbase\n",
        "        for i in range(len(ratings)-2, -1, -1): # Start from the 2nd last element\n",
        "            rbase = rbase + 1 if ratings[i] > ratings[i + 1] else 1\n",
        "            res[i] = max(res[i], rbase)\n",
        "        return sum(res)\n",
        "if __name__ == \"__main__\":\n",
        "    # ratings = [4,5,6,5,4,3,2,1]\n",
        "    ratings = [1,0,2]\n",
        "    print(Solution().candy(ratings))"
      ]
    },
    {
      "cell_type": "markdown",
      "source": [
        "**406. Queue Reconstruction by Height**\n",
        "\n",
        "You are given an **array** of *people*, `people`, which are the attributes of some people in a queue (not necessarily in order). Each `people[i]` = `[hi, ki]` represents the ith person of *height* h_i with exactly k_i other people in front who have a *height* greater than or equal to h_i.\n",
        "\n",
        "Reconstruct and return the queue that is represented by the input array people. The returned queue should be formatted as an array queue, where `queue[j] = [hj, kj]` is the attributes of the j-th person in the queue (`queue[0]` is the person at the ***front*** of the queue).\n",
        "\n",
        "Example 1:\n",
        "\n",
        "> `Input`: `people` = `[[7,0],[4,4],[7,1],[5,0],[6,1],[5,2]]` <br>\n",
        "`Output`: `[[5,0],[7,0],[5,2],[6,1],[4,4],[7,1]]`\n",
        "\n",
        "**Explanation**:\n",
        "\n",
        "- Person 0 has height 5 with no other people taller or the same height in front.\n",
        "- Person 1 has height 7 with no other people taller or the same height in front.\n",
        "- Person 2 has height 5 with two persons taller or the same height in front, which is person 0 and 1.\n",
        "- Person 3 has height 6 with one person taller or the same height in front, which is person 1.\n",
        "- Person 4 has height 4 with four people taller or the same height in front, which are people 0, 1, 2, and 3.\n",
        "- Person 5 has height 7 with one person taller or the same height in front, which is person 1.\n",
        "\n",
        "Hence `[[5,0],[7,0],[5,2],[6,1],[4,4],[7,1]]` is the reconstructed queue.\n",
        "\n"
      ],
      "metadata": {
        "id": "HaSBsGO004fw"
      }
    },
    {
      "cell_type": "code",
      "source": [
        "from typing import List\n",
        "class Solution:\n",
        "    def reconstructQueue(self, people: List[List[int]]) -> List[List[int]]:\n",
        "        # Sort the 'people' array in descending order of height (h),\n",
        "        # and in the case of a tie, in ascending order of the number of people in front (k).\n",
        "        people.sort(key=lambda person: (-person[0], person[1]))\n",
        "\n",
        "        # Initialize an empty list to hold the final queue reconstruction\n",
        "        queue = []\n",
        "\n",
        "        # Iterate over the sorted 'people' list\n",
        "        for person in people:\n",
        "            # Insert each person into the queue. The index for insertion is the k-value,\n",
        "            # which represents the number of people in front of them with equal or greater height.\n",
        "            queue.insert(person[1], person)\n",
        "\n",
        "        # Return the reconstructed queue\n",
        "        return queue"
      ],
      "metadata": {
        "id": "rvEO0a4xNn0w"
      },
      "execution_count": null,
      "outputs": []
    },
    {
      "cell_type": "code",
      "source": [],
      "metadata": {
        "id": "su2GwBYaNtyR"
      },
      "execution_count": null,
      "outputs": []
    }
  ]
}
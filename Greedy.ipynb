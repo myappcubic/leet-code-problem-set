{
  "nbformat": 4,
  "nbformat_minor": 0,
  "metadata": {
    "colab": {
      "provenance": [],
      "authorship_tag": "ABX9TyOgm631H+RVS0AePSF7bgR7",
      "include_colab_link": true
    },
    "kernelspec": {
      "name": "python3",
      "display_name": "Python 3"
    },
    "language_info": {
      "name": "python"
    }
  },
  "cells": [
    {
      "cell_type": "markdown",
      "metadata": {
        "id": "view-in-github",
        "colab_type": "text"
      },
      "source": [
        "<a href=\"https://colab.research.google.com/github/myappcubic/leet-code-problem-set/blob/main/Greedy.ipynb\" target=\"_parent\"><img src=\"https://colab.research.google.com/assets/colab-badge.svg\" alt=\"Open In Colab\"/></a>"
      ]
    },
    {
      "cell_type": "markdown",
      "source": [
        "**135. Candy**\n",
        "\n",
        "There are `n` children standing in a line. *Each* child is assigned a rating value given in the integer array `ratings`.\n",
        "\n",
        "You are giving candies to these children subjected to the following requirements:\n",
        "\n",
        "- Each child must have at least one candy.\n",
        "- Children with a higher rating get more candies than their neighbors.\n",
        "\n",
        "Return the *minimum* number of candies you need to have to distribute the candies to the children."
      ],
      "metadata": {
        "id": "UTi4E9X1zTz3"
      }
    },
    {
      "cell_type": "code",
      "source": [
        "from typing import List"
      ],
      "metadata": {
        "id": "9PYhGcIszpSN"
      },
      "execution_count": 1,
      "outputs": []
    },
    {
      "cell_type": "code",
      "execution_count": 4,
      "metadata": {
        "colab": {
          "base_uri": "https://localhost:8080/"
        },
        "id": "hvv6bWNmy1xA",
        "outputId": "8108f32f-f4ad-46f3-ad8c-e419001ca006"
      },
      "outputs": [
        {
          "output_type": "stream",
          "name": "stdout",
          "text": [
            "5\n"
          ]
        }
      ],
      "source": [
        "class Solution:\n",
        "    def candy(self, ratings: List[int]) -> int:\n",
        "        res = [1]*len(ratings)\n",
        "        lbase, rbase = 1, 1\n",
        "\n",
        "        for i in range(1, len(ratings)): # Start from the 2nd element and compare previous\n",
        "            lbase = lbase + 1 if ratings[i] > ratings[i - 1] else 1\n",
        "            res[i] = lbase\n",
        "        for i in range(len(ratings)-2, -1, -1): # Start from the 2nd last element\n",
        "            rbase = rbase + 1 if ratings[i] > ratings[i + 1] else 1\n",
        "            res[i] = max(res[i], rbase)\n",
        "        return sum(res)\n",
        "if __name__ == \"__main__\":\n",
        "    # ratings = [4,5,6,5,4,3,2,1]\n",
        "    ratings = [1,0,2]\n",
        "    print(Solution().candy(ratings))"
      ]
    },
    {
      "cell_type": "code",
      "source": [],
      "metadata": {
        "id": "HaSBsGO004fw"
      },
      "execution_count": null,
      "outputs": []
    }
  ]
}